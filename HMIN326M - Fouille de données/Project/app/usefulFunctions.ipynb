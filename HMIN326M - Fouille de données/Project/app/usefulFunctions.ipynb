{
 "cells": [
  {
   "cell_type": "code",
   "execution_count": 3,
   "metadata": {},
   "outputs": [],
   "source": [
    "import pandas as pd"
   ]
  },
  {
   "cell_type": "code",
   "execution_count": 1,
   "metadata": {},
   "outputs": [],
   "source": [
    "basket = [\n",
    "           ['Biscuit', 'Creme', 'Couches','Pain', 'Confiture'],\n",
    "           ['Oeufs', 'Salade', 'Pain'],\n",
    "           ['Pain', 'Biscuit', 'Couches', 'Lait','Camembert','Biere','Poudre de cacao'],\n",
    "           ['Biere', 'Lait', 'Creme', 'Pain', 'Salade','Couches','Poudre de cacao'],\n",
    "           ['Camembert', 'Confiture', 'Poudre de cacao', 'Lait'],\n",
    "           ['Lait','Biere','Perrier','Oeufs','Couches'],\n",
    "           ['Biscuit', 'Creme', 'Oeufs', 'Pain', 'Couches','Lait','Poudre de cacao', 'Confiture'],\n",
    "           ['Camembert','Biere','Perrier','Oeufs','Salade','Confiture','Couches'],\n",
    "           ['Salade','Confiture','Pain','Oeufs','Creme','Perrier','Biscuit']]"
   ]
  },
  {
   "cell_type": "code",
   "execution_count": 4,
   "metadata": {},
   "outputs": [],
   "source": [
    "df = pd.DataFrame(basket)"
   ]
  },
  {
   "cell_type": "code",
   "execution_count": 5,
   "metadata": {},
   "outputs": [
    {
     "data": {
      "text/html": [
       "<div>\n",
       "<style scoped>\n",
       "    .dataframe tbody tr th:only-of-type {\n",
       "        vertical-align: middle;\n",
       "    }\n",
       "\n",
       "    .dataframe tbody tr th {\n",
       "        vertical-align: top;\n",
       "    }\n",
       "\n",
       "    .dataframe thead th {\n",
       "        text-align: right;\n",
       "    }\n",
       "</style>\n",
       "<table border=\"1\" class=\"dataframe\">\n",
       "  <thead>\n",
       "    <tr style=\"text-align: right;\">\n",
       "      <th></th>\n",
       "      <th>0</th>\n",
       "      <th>1</th>\n",
       "      <th>2</th>\n",
       "      <th>3</th>\n",
       "      <th>4</th>\n",
       "      <th>5</th>\n",
       "      <th>6</th>\n",
       "      <th>7</th>\n",
       "    </tr>\n",
       "  </thead>\n",
       "  <tbody>\n",
       "    <tr>\n",
       "      <th>0</th>\n",
       "      <td>Biscuit</td>\n",
       "      <td>Creme</td>\n",
       "      <td>Couches</td>\n",
       "      <td>Pain</td>\n",
       "      <td>Confiture</td>\n",
       "      <td>None</td>\n",
       "      <td>None</td>\n",
       "      <td>None</td>\n",
       "    </tr>\n",
       "    <tr>\n",
       "      <th>1</th>\n",
       "      <td>Oeufs</td>\n",
       "      <td>Salade</td>\n",
       "      <td>Pain</td>\n",
       "      <td>None</td>\n",
       "      <td>None</td>\n",
       "      <td>None</td>\n",
       "      <td>None</td>\n",
       "      <td>None</td>\n",
       "    </tr>\n",
       "    <tr>\n",
       "      <th>2</th>\n",
       "      <td>Pain</td>\n",
       "      <td>Biscuit</td>\n",
       "      <td>Couches</td>\n",
       "      <td>Lait</td>\n",
       "      <td>Camembert</td>\n",
       "      <td>Biere</td>\n",
       "      <td>Poudre de cacao</td>\n",
       "      <td>None</td>\n",
       "    </tr>\n",
       "    <tr>\n",
       "      <th>3</th>\n",
       "      <td>Biere</td>\n",
       "      <td>Lait</td>\n",
       "      <td>Creme</td>\n",
       "      <td>Pain</td>\n",
       "      <td>Salade</td>\n",
       "      <td>Couches</td>\n",
       "      <td>Poudre de cacao</td>\n",
       "      <td>None</td>\n",
       "    </tr>\n",
       "    <tr>\n",
       "      <th>4</th>\n",
       "      <td>Camembert</td>\n",
       "      <td>Confiture</td>\n",
       "      <td>Poudre de cacao</td>\n",
       "      <td>Lait</td>\n",
       "      <td>None</td>\n",
       "      <td>None</td>\n",
       "      <td>None</td>\n",
       "      <td>None</td>\n",
       "    </tr>\n",
       "    <tr>\n",
       "      <th>5</th>\n",
       "      <td>Lait</td>\n",
       "      <td>Biere</td>\n",
       "      <td>Perrier</td>\n",
       "      <td>Oeufs</td>\n",
       "      <td>Couches</td>\n",
       "      <td>None</td>\n",
       "      <td>None</td>\n",
       "      <td>None</td>\n",
       "    </tr>\n",
       "    <tr>\n",
       "      <th>6</th>\n",
       "      <td>Biscuit</td>\n",
       "      <td>Creme</td>\n",
       "      <td>Oeufs</td>\n",
       "      <td>Pain</td>\n",
       "      <td>Couches</td>\n",
       "      <td>Lait</td>\n",
       "      <td>Poudre de cacao</td>\n",
       "      <td>Confiture</td>\n",
       "    </tr>\n",
       "    <tr>\n",
       "      <th>7</th>\n",
       "      <td>Camembert</td>\n",
       "      <td>Biere</td>\n",
       "      <td>Perrier</td>\n",
       "      <td>Oeufs</td>\n",
       "      <td>Salade</td>\n",
       "      <td>Confiture</td>\n",
       "      <td>Couches</td>\n",
       "      <td>None</td>\n",
       "    </tr>\n",
       "    <tr>\n",
       "      <th>8</th>\n",
       "      <td>Salade</td>\n",
       "      <td>Confiture</td>\n",
       "      <td>Pain</td>\n",
       "      <td>Oeufs</td>\n",
       "      <td>Creme</td>\n",
       "      <td>Perrier</td>\n",
       "      <td>Biscuit</td>\n",
       "      <td>None</td>\n",
       "    </tr>\n",
       "  </tbody>\n",
       "</table>\n",
       "</div>"
      ],
      "text/plain": [
       "           0          1                2      3          4          5  \\\n",
       "0    Biscuit      Creme          Couches   Pain  Confiture       None   \n",
       "1      Oeufs     Salade             Pain   None       None       None   \n",
       "2       Pain    Biscuit          Couches   Lait  Camembert      Biere   \n",
       "3      Biere       Lait            Creme   Pain     Salade    Couches   \n",
       "4  Camembert  Confiture  Poudre de cacao   Lait       None       None   \n",
       "5       Lait      Biere          Perrier  Oeufs    Couches       None   \n",
       "6    Biscuit      Creme            Oeufs   Pain    Couches       Lait   \n",
       "7  Camembert      Biere          Perrier  Oeufs     Salade  Confiture   \n",
       "8     Salade  Confiture             Pain  Oeufs      Creme    Perrier   \n",
       "\n",
       "                 6          7  \n",
       "0             None       None  \n",
       "1             None       None  \n",
       "2  Poudre de cacao       None  \n",
       "3  Poudre de cacao       None  \n",
       "4             None       None  \n",
       "5             None       None  \n",
       "6  Poudre de cacao  Confiture  \n",
       "7          Couches       None  \n",
       "8          Biscuit       None  "
      ]
     },
     "execution_count": 5,
     "metadata": {},
     "output_type": "execute_result"
    }
   ],
   "source": [
    "df"
   ]
  },
  {
   "cell_type": "code",
   "execution_count": 6,
   "metadata": {},
   "outputs": [],
   "source": [
    "setOfSequence = set([element for event in basket for element in event])"
   ]
  },
  {
   "cell_type": "code",
   "execution_count": 7,
   "metadata": {},
   "outputs": [
    {
     "data": {
      "text/plain": [
       "{'Biere',\n",
       " 'Biscuit',\n",
       " 'Camembert',\n",
       " 'Confiture',\n",
       " 'Couches',\n",
       " 'Creme',\n",
       " 'Lait',\n",
       " 'Oeufs',\n",
       " 'Pain',\n",
       " 'Perrier',\n",
       " 'Poudre de cacao',\n",
       " 'Salade'}"
      ]
     },
     "execution_count": 7,
     "metadata": {},
     "output_type": "execute_result"
    }
   ],
   "source": [
    "setOfSequence"
   ]
  },
  {
   "cell_type": "code",
   "execution_count": 8,
   "metadata": {},
   "outputs": [
    {
     "data": {
      "text/plain": [
       "set"
      ]
     },
     "execution_count": 8,
     "metadata": {},
     "output_type": "execute_result"
    }
   ],
   "source": [
    "type(setOfSequence)"
   ]
  },
  {
   "cell_type": "code",
   "execution_count": null,
   "metadata": {},
   "outputs": [],
   "source": []
  }
 ],
 "metadata": {
  "kernelspec": {
   "display_name": "Python 3",
   "language": "python",
   "name": "python3"
  },
  "language_info": {
   "codemirror_mode": {
    "name": "ipython",
    "version": 3
   },
   "file_extension": ".py",
   "mimetype": "text/x-python",
   "name": "python",
   "nbconvert_exporter": "python",
   "pygments_lexer": "ipython3",
   "version": "3.7.6"
  }
 },
 "nbformat": 4,
 "nbformat_minor": 4
}
