{
 "cells": [
  {
   "cell_type": "markdown",
   "metadata": {},
   "source": [
    "<H1> Ingénierie des données </H1>\n",
    "\n",
    "Dans ce notebook nous présentons l'une des étapes essentielles de la classification : l'ingénierie des données. Nous abordons le traitement des données catégorielles, la mise à l'échelle et le traitement des valeurs manquantes. Il existe de très nombreuses méthodes qui ont forcément un impact sur le résultat de la classification. Il est important de bien les comprendre et de rechercher celle qui est la plus adaptée en fonction du contexte."
   ]
  },
  {
   "cell_type": "markdown",
   "metadata": {},
   "source": [
    "## Traitement des données catégorielles ou qualitatives"
   ]
  },
  {
   "cell_type": "markdown",
   "metadata": {},
   "source": [
    "De très nombreux jeux de données contiennent des données catégorielles comme une couleur, une adresse, etc. Même les classes peuvent être catégorielles (avis positif, avis négatif). De nombreux algorithmes ne sont pas capables de les traiter car ils considérent uniquement des valeurs numériques. Dans cette section nous présentons différentes manières de transformer les données catégorielles. Elles dépendent bien entendu du contexte. \n",
    "\n",
    "**Rappel** : les attributs pour lesquels il n'existe pas d'ordre sont appelés nominaux (par exemple les couleurs). En opposition ceux pour lesquels il existe un ordre sont appelés ordinaux (taille XL, L, M)."
   ]
  },
  {
   "cell_type": "markdown",
   "metadata": {},
   "source": [
    "Considérons l'exemple suivant qui contient des attributs numériques et catégoriels. "
   ]
  },
  {
   "cell_type": "code",
   "execution_count": 29,
   "metadata": {},
   "outputs": [
    {
     "name": "stdout",
     "output_type": "stream",
     "text": [
      "Pour connaître les informations qui sont catégorielles, faire un df.info()\n",
      "<class 'pandas.core.frame.DataFrame'>\n",
      "RangeIndex: 4 entries, 0 to 3\n",
      "Data columns (total 4 columns):\n",
      "Taille     4 non-null object\n",
      "Couleur    4 non-null object\n",
      "Prix       4 non-null float64\n",
      "Classe     4 non-null object\n",
      "dtypes: float64(1), object(3)\n",
      "memory usage: 208.0+ bytes\n",
      "None\n"
     ]
    }
   ],
   "source": [
    "\n",
    "import pandas as pd\n",
    "\n",
    "df = pd.DataFrame(\n",
    "    {'Taille': ['XL','L','M','S'], \n",
    "     'Couleur': ['bleu','blanc','rouge','vert'],\n",
    "     'Prix': [20.76,23.5,40.99,10.0],\n",
    "     'Classe': ['classe1','classe1','classe2','classe3']},columns=['Taille','Couleur','Prix','Classe'])\n",
    "\n",
    "print ('Pour connaître les informations qui sont catégorielles, faire un df.info()')\n",
    "print (df.info())\n",
    "\n"
   ]
  },
  {
   "cell_type": "markdown",
   "metadata": {},
   "source": [
    "Dans un jeu de données pour connaître les attributs qui ne sont pas numériques, il suffit de faire, pour un dataframe de nom df, un df.info() et les attributs non numériques apparaissent avec le type object.  Attention toutefois, lorsqu'il y a la présence de valeurs manquantes il se peut que l'attribut apparaisse avec le dtype objet. Par exemple en remplaçant le dataframe précédent par :  \n",
    "'Prix': [20.76,'nan',40.99,10.0]  \n",
    "l'information sur l'attribut prix sera : Prix       4 non-null object \n",
    "\n",
    "\n",
    "Il est également possible de faire un df.describe() qui affiche des statistiques (moyenne, max, min, etc) uniquement pour les attributs numériques."
   ]
  },
  {
   "cell_type": "code",
   "execution_count": 31,
   "metadata": {},
   "outputs": [
    {
     "name": "stdout",
     "output_type": "stream",
     "text": [
      "Pour connaître quelques statistiques, faire un df.describe()\n"
     ]
    },
    {
     "data": {
      "text/html": [
       "<div>\n",
       "<style scoped>\n",
       "    .dataframe tbody tr th:only-of-type {\n",
       "        vertical-align: middle;\n",
       "    }\n",
       "\n",
       "    .dataframe tbody tr th {\n",
       "        vertical-align: top;\n",
       "    }\n",
       "\n",
       "    .dataframe thead th {\n",
       "        text-align: right;\n",
       "    }\n",
       "</style>\n",
       "<table border=\"1\" class=\"dataframe\">\n",
       "  <thead>\n",
       "    <tr style=\"text-align: right;\">\n",
       "      <th></th>\n",
       "      <th>Prix</th>\n",
       "    </tr>\n",
       "  </thead>\n",
       "  <tbody>\n",
       "    <tr>\n",
       "      <th>count</th>\n",
       "      <td>4.000000</td>\n",
       "    </tr>\n",
       "    <tr>\n",
       "      <th>mean</th>\n",
       "      <td>23.812500</td>\n",
       "    </tr>\n",
       "    <tr>\n",
       "      <th>std</th>\n",
       "      <td>12.848697</td>\n",
       "    </tr>\n",
       "    <tr>\n",
       "      <th>min</th>\n",
       "      <td>10.000000</td>\n",
       "    </tr>\n",
       "    <tr>\n",
       "      <th>25%</th>\n",
       "      <td>18.070000</td>\n",
       "    </tr>\n",
       "    <tr>\n",
       "      <th>50%</th>\n",
       "      <td>22.130000</td>\n",
       "    </tr>\n",
       "    <tr>\n",
       "      <th>75%</th>\n",
       "      <td>27.872500</td>\n",
       "    </tr>\n",
       "    <tr>\n",
       "      <th>max</th>\n",
       "      <td>40.990000</td>\n",
       "    </tr>\n",
       "  </tbody>\n",
       "</table>\n",
       "</div>"
      ],
      "text/plain": [
       "            Prix\n",
       "count   4.000000\n",
       "mean   23.812500\n",
       "std    12.848697\n",
       "min    10.000000\n",
       "25%    18.070000\n",
       "50%    22.130000\n",
       "75%    27.872500\n",
       "max    40.990000"
      ]
     },
     "metadata": {},
     "output_type": "display_data"
    }
   ],
   "source": [
    "print ('Pour connaître quelques statistiques, faire un df.describe()')\n",
    "\n",
    "\n",
    "display(df.describe())"
   ]
  },
  {
   "cell_type": "markdown",
   "metadata": {},
   "source": [
    "Un df.describe() sur un attribut non numérique donne d'autres informations."
   ]
  },
  {
   "cell_type": "code",
   "execution_count": 33,
   "metadata": {},
   "outputs": [
    {
     "data": {
      "text/plain": [
       "count        4\n",
       "unique       4\n",
       "top       bleu\n",
       "freq         1\n",
       "Name: Couleur, dtype: object"
      ]
     },
     "metadata": {},
     "output_type": "display_data"
    }
   ],
   "source": [
    "display(df['Couleur'].describe())"
   ]
  },
  {
   "cell_type": "markdown",
   "metadata": {},
   "source": [
    "<H2> Remplacement de la valeur </H2>  \n",
    "La première approche la plus simple est de remplacer les valeurs. Considérons qu'il y ait un ordre pour les tailles tels que S=1, M=S+1 etc. Il est possible de transformer les valeurs à l'aide de la fonction map appliquée au dataframe"
   ]
  },
  {
   "cell_type": "code",
   "execution_count": 4,
   "metadata": {},
   "outputs": [],
   "source": [
    "#creation de la transformation\n",
    "replace_map = {'XL': 4, 'L': 3, 'M': 2, 'S': 1}"
   ]
  },
  {
   "cell_type": "code",
   "execution_count": 5,
   "metadata": {},
   "outputs": [
    {
     "name": "stdout",
     "output_type": "stream",
     "text": [
      "Application de la fonction map \n",
      "\n",
      "0    4\n",
      "1    3\n",
      "2    2\n",
      "3    1\n",
      "Name: Taille, dtype: int64\n",
      "\n",
      "Ajout d'une colonne au dataframe avec application de la fonction map \n",
      "\n"
     ]
    },
    {
     "data": {
      "text/html": [
       "<div>\n",
       "<style scoped>\n",
       "    .dataframe tbody tr th:only-of-type {\n",
       "        vertical-align: middle;\n",
       "    }\n",
       "\n",
       "    .dataframe tbody tr th {\n",
       "        vertical-align: top;\n",
       "    }\n",
       "\n",
       "    .dataframe thead th {\n",
       "        text-align: right;\n",
       "    }\n",
       "</style>\n",
       "<table border=\"1\" class=\"dataframe\">\n",
       "  <thead>\n",
       "    <tr style=\"text-align: right;\">\n",
       "      <th></th>\n",
       "      <th>Taille</th>\n",
       "      <th>Couleur</th>\n",
       "      <th>Prix</th>\n",
       "      <th>Classe</th>\n",
       "      <th>Taille renommée</th>\n",
       "    </tr>\n",
       "  </thead>\n",
       "  <tbody>\n",
       "    <tr>\n",
       "      <th>0</th>\n",
       "      <td>XL</td>\n",
       "      <td>bleu</td>\n",
       "      <td>20.76</td>\n",
       "      <td>classe1</td>\n",
       "      <td>4</td>\n",
       "    </tr>\n",
       "    <tr>\n",
       "      <th>1</th>\n",
       "      <td>L</td>\n",
       "      <td>blanc</td>\n",
       "      <td>23.50</td>\n",
       "      <td>classe1</td>\n",
       "      <td>3</td>\n",
       "    </tr>\n",
       "    <tr>\n",
       "      <th>2</th>\n",
       "      <td>M</td>\n",
       "      <td>rouge</td>\n",
       "      <td>40.99</td>\n",
       "      <td>classe2</td>\n",
       "      <td>2</td>\n",
       "    </tr>\n",
       "    <tr>\n",
       "      <th>3</th>\n",
       "      <td>S</td>\n",
       "      <td>vert</td>\n",
       "      <td>10.00</td>\n",
       "      <td>classe3</td>\n",
       "      <td>1</td>\n",
       "    </tr>\n",
       "  </tbody>\n",
       "</table>\n",
       "</div>"
      ],
      "text/plain": [
       "  Taille Couleur   Prix   Classe  Taille renommée\n",
       "0     XL    bleu  20.76  classe1                4\n",
       "1      L   blanc  23.50  classe1                3\n",
       "2      M   rouge  40.99  classe2                2\n",
       "3      S    vert  10.00  classe3                1"
      ]
     },
     "metadata": {},
     "output_type": "display_data"
    },
    {
     "name": "stdout",
     "output_type": "stream",
     "text": [
      "\n",
      "Remplacement direct de taille avec les nouvelles valeurs\n",
      "\n"
     ]
    },
    {
     "data": {
      "text/html": [
       "<div>\n",
       "<style scoped>\n",
       "    .dataframe tbody tr th:only-of-type {\n",
       "        vertical-align: middle;\n",
       "    }\n",
       "\n",
       "    .dataframe tbody tr th {\n",
       "        vertical-align: top;\n",
       "    }\n",
       "\n",
       "    .dataframe thead th {\n",
       "        text-align: right;\n",
       "    }\n",
       "</style>\n",
       "<table border=\"1\" class=\"dataframe\">\n",
       "  <thead>\n",
       "    <tr style=\"text-align: right;\">\n",
       "      <th></th>\n",
       "      <th>Taille</th>\n",
       "      <th>Couleur</th>\n",
       "      <th>Prix</th>\n",
       "      <th>Classe</th>\n",
       "      <th>Taille renommée</th>\n",
       "    </tr>\n",
       "  </thead>\n",
       "  <tbody>\n",
       "    <tr>\n",
       "      <th>0</th>\n",
       "      <td>4</td>\n",
       "      <td>bleu</td>\n",
       "      <td>20.76</td>\n",
       "      <td>classe1</td>\n",
       "      <td>4</td>\n",
       "    </tr>\n",
       "    <tr>\n",
       "      <th>1</th>\n",
       "      <td>3</td>\n",
       "      <td>blanc</td>\n",
       "      <td>23.50</td>\n",
       "      <td>classe1</td>\n",
       "      <td>3</td>\n",
       "    </tr>\n",
       "    <tr>\n",
       "      <th>2</th>\n",
       "      <td>2</td>\n",
       "      <td>rouge</td>\n",
       "      <td>40.99</td>\n",
       "      <td>classe2</td>\n",
       "      <td>2</td>\n",
       "    </tr>\n",
       "    <tr>\n",
       "      <th>3</th>\n",
       "      <td>1</td>\n",
       "      <td>vert</td>\n",
       "      <td>10.00</td>\n",
       "      <td>classe3</td>\n",
       "      <td>1</td>\n",
       "    </tr>\n",
       "  </tbody>\n",
       "</table>\n",
       "</div>"
      ],
      "text/plain": [
       "   Taille Couleur   Prix   Classe  Taille renommée\n",
       "0       4    bleu  20.76  classe1                4\n",
       "1       3   blanc  23.50  classe1                3\n",
       "2       2   rouge  40.99  classe2                2\n",
       "3       1    vert  10.00  classe3                1"
      ]
     },
     "metadata": {},
     "output_type": "display_data"
    }
   ],
   "source": [
    "#creation d'une copie de df pour ne pas perdre le df initial\n",
    "df_test=df.copy()\n",
    "\n",
    "print ('Application de la fonction map \\n')\n",
    "print (df_test['Taille'].map(replace_map))\n",
    "\n",
    "print (\"\\nAjout d'une colonne au dataframe avec application de la fonction map \\n\")\n",
    "df_test[\"Taille renommée\"]=df_test['Taille'].map(replace_map)\n",
    "\n",
    "display(df_test)       \n",
    "       \n",
    "print (\"\\nRemplacement direct de taille avec les nouvelles valeurs\\n\")\n",
    "   \n",
    "df_test.replace(replace_map, inplace=True)\n",
    "\n",
    "display(df_test)"
   ]
  },
  {
   "cell_type": "markdown",
   "metadata": {},
   "source": [
    "<H2> Label encoding </H2>\n",
    "\n",
    "Une autre approche appelée label encoding consiste à transformer l'ensemble des valeurs par un nombre de 0 au nombre-1 de catégories. Il suffit pour cela d'utiliser la fonction *LabelEncoder*."
   ]
  },
  {
   "cell_type": "code",
   "execution_count": 6,
   "metadata": {},
   "outputs": [
    {
     "name": "stdout",
     "output_type": "stream",
     "text": [
      "\n",
      " Affichage des transformations\n",
      "\n",
      "[0 0 1 2]\n",
      "\n",
      "Ajout d'une colonne au dataframe\n"
     ]
    },
    {
     "data": {
      "text/html": [
       "<div>\n",
       "<style scoped>\n",
       "    .dataframe tbody tr th:only-of-type {\n",
       "        vertical-align: middle;\n",
       "    }\n",
       "\n",
       "    .dataframe tbody tr th {\n",
       "        vertical-align: top;\n",
       "    }\n",
       "\n",
       "    .dataframe thead th {\n",
       "        text-align: right;\n",
       "    }\n",
       "</style>\n",
       "<table border=\"1\" class=\"dataframe\">\n",
       "  <thead>\n",
       "    <tr style=\"text-align: right;\">\n",
       "      <th></th>\n",
       "      <th>Taille</th>\n",
       "      <th>Couleur</th>\n",
       "      <th>Prix</th>\n",
       "      <th>Classe</th>\n",
       "      <th>Classe renommée</th>\n",
       "    </tr>\n",
       "  </thead>\n",
       "  <tbody>\n",
       "    <tr>\n",
       "      <th>0</th>\n",
       "      <td>XL</td>\n",
       "      <td>bleu</td>\n",
       "      <td>20.76</td>\n",
       "      <td>classe1</td>\n",
       "      <td>0</td>\n",
       "    </tr>\n",
       "    <tr>\n",
       "      <th>1</th>\n",
       "      <td>L</td>\n",
       "      <td>blanc</td>\n",
       "      <td>23.50</td>\n",
       "      <td>classe1</td>\n",
       "      <td>0</td>\n",
       "    </tr>\n",
       "    <tr>\n",
       "      <th>2</th>\n",
       "      <td>M</td>\n",
       "      <td>rouge</td>\n",
       "      <td>40.99</td>\n",
       "      <td>classe2</td>\n",
       "      <td>1</td>\n",
       "    </tr>\n",
       "    <tr>\n",
       "      <th>3</th>\n",
       "      <td>S</td>\n",
       "      <td>vert</td>\n",
       "      <td>10.00</td>\n",
       "      <td>classe3</td>\n",
       "      <td>2</td>\n",
       "    </tr>\n",
       "  </tbody>\n",
       "</table>\n",
       "</div>"
      ],
      "text/plain": [
       "  Taille Couleur   Prix   Classe  Classe renommée\n",
       "0     XL    bleu  20.76  classe1                0\n",
       "1      L   blanc  23.50  classe1                0\n",
       "2      M   rouge  40.99  classe2                1\n",
       "3      S    vert  10.00  classe3                2"
      ]
     },
     "metadata": {},
     "output_type": "display_data"
    },
    {
     "name": "stdout",
     "output_type": "stream",
     "text": [
      "\n",
      "Remplacement direct de classe avec les nouvelles valeurs\n",
      "\n"
     ]
    },
    {
     "data": {
      "text/html": [
       "<div>\n",
       "<style scoped>\n",
       "    .dataframe tbody tr th:only-of-type {\n",
       "        vertical-align: middle;\n",
       "    }\n",
       "\n",
       "    .dataframe tbody tr th {\n",
       "        vertical-align: top;\n",
       "    }\n",
       "\n",
       "    .dataframe thead th {\n",
       "        text-align: right;\n",
       "    }\n",
       "</style>\n",
       "<table border=\"1\" class=\"dataframe\">\n",
       "  <thead>\n",
       "    <tr style=\"text-align: right;\">\n",
       "      <th></th>\n",
       "      <th>Taille</th>\n",
       "      <th>Couleur</th>\n",
       "      <th>Prix</th>\n",
       "      <th>Classe</th>\n",
       "      <th>Classe renommée</th>\n",
       "    </tr>\n",
       "  </thead>\n",
       "  <tbody>\n",
       "    <tr>\n",
       "      <th>0</th>\n",
       "      <td>XL</td>\n",
       "      <td>bleu</td>\n",
       "      <td>20.76</td>\n",
       "      <td>0</td>\n",
       "      <td>0</td>\n",
       "    </tr>\n",
       "    <tr>\n",
       "      <th>1</th>\n",
       "      <td>L</td>\n",
       "      <td>blanc</td>\n",
       "      <td>23.50</td>\n",
       "      <td>0</td>\n",
       "      <td>0</td>\n",
       "    </tr>\n",
       "    <tr>\n",
       "      <th>2</th>\n",
       "      <td>M</td>\n",
       "      <td>rouge</td>\n",
       "      <td>40.99</td>\n",
       "      <td>1</td>\n",
       "      <td>1</td>\n",
       "    </tr>\n",
       "    <tr>\n",
       "      <th>3</th>\n",
       "      <td>S</td>\n",
       "      <td>vert</td>\n",
       "      <td>10.00</td>\n",
       "      <td>2</td>\n",
       "      <td>2</td>\n",
       "    </tr>\n",
       "  </tbody>\n",
       "</table>\n",
       "</div>"
      ],
      "text/plain": [
       "  Taille Couleur   Prix  Classe  Classe renommée\n",
       "0     XL    bleu  20.76       0                0\n",
       "1      L   blanc  23.50       0                0\n",
       "2      M   rouge  40.99       1                1\n",
       "3      S    vert  10.00       2                2"
      ]
     },
     "metadata": {},
     "output_type": "display_data"
    }
   ],
   "source": [
    "from sklearn.preprocessing import LabelEncoder\n",
    "\n",
    "#creation d'une copie de df pour ne pas perdre le df initial\n",
    "df_test=df.copy()\n",
    "\n",
    "class_label_encoder = LabelEncoder()\n",
    "print (\"\\n Affichage des transformations\\n\")\n",
    "print(class_label_encoder.fit_transform(df_test['Classe'].values))\n",
    "\n",
    "print (\"\\nAjout d'une colonne au dataframe\")\n",
    "df_test[\"Classe renommée\"] = class_label_encoder.fit_transform(df_test[\"Classe\"])\n",
    "\n",
    "display (df_test)\n",
    "\n",
    "print (\"\\nRemplacement direct de classe avec les nouvelles valeurs\\n\")\n",
    "df_test[\"Classe\"] = class_label_encoder.fit_transform(df_test[\"Classe\"])\n",
    "\n",
    "display(df_test)\n"
   ]
  },
  {
   "cell_type": "markdown",
   "metadata": {},
   "source": [
    "<H2> One Hot Encoding</H2>  \n",
    "\n",
    "Le label encoding a l'avantage d'être direct à obtenir mais le désavantage de donner des valeurs croissantes qui peuvent être mal considérés par les classifieurs. Par exemple dans le cas des tailles il est plus logique que XL qui est le plus grand ait une grande valeur. Par contre pour les couleurs cela ne correspond pas à une réalité. On ne peut pas dire que bleu a 4 fois plus de poids que vert par exemple.  \n",
    "\n",
    "Le principe est de convertir chaque valeur de catégorie dans une nouvelle colonne et de mettre une valeur 1 ou 0 (vrai/faux) à la colonne. Cette approche a l'avantage de ne plus mettre de poids différents pour un attribut mais à l'inconvénient de rajouter un grand nombre de colonnes si le nombre de catégories est important. \n",
    "\n",
    "Scikit learn propose la fonction *get_dummies* pour effectuer la transformation. Cette dernière prend en paramètre le dataframe, les colonnes sur lesquelles doivent s'effectuer les transformation et un prefixe qui sera utilisé pour nommer les colonnes.  \n",
    "*pd.get_dummies(df,columns=['colA','colB',..],prefix = ['leprefix'])*"
   ]
  },
  {
   "cell_type": "code",
   "execution_count": 7,
   "metadata": {},
   "outputs": [
    {
     "name": "stdout",
     "output_type": "stream",
     "text": [
      "\n",
      " Affichage des transformations\n",
      "\n",
      "   Couleur_blanc  Couleur_bleu  Couleur_rouge  Couleur_vert\n",
      "0              0             1              0             0\n",
      "1              1             0              0             0\n",
      "2              0             0              1             0\n",
      "3              0             0              0             1\n",
      "\n",
      "Ajout des colonne au dataframe\n"
     ]
    },
    {
     "data": {
      "text/html": [
       "<div>\n",
       "<style scoped>\n",
       "    .dataframe tbody tr th:only-of-type {\n",
       "        vertical-align: middle;\n",
       "    }\n",
       "\n",
       "    .dataframe tbody tr th {\n",
       "        vertical-align: top;\n",
       "    }\n",
       "\n",
       "    .dataframe thead th {\n",
       "        text-align: right;\n",
       "    }\n",
       "</style>\n",
       "<table border=\"1\" class=\"dataframe\">\n",
       "  <thead>\n",
       "    <tr style=\"text-align: right;\">\n",
       "      <th></th>\n",
       "      <th>Taille</th>\n",
       "      <th>Prix</th>\n",
       "      <th>Classe</th>\n",
       "      <th>Coul_blanc</th>\n",
       "      <th>Coul_bleu</th>\n",
       "      <th>Coul_rouge</th>\n",
       "      <th>Coul_vert</th>\n",
       "    </tr>\n",
       "  </thead>\n",
       "  <tbody>\n",
       "    <tr>\n",
       "      <th>0</th>\n",
       "      <td>XL</td>\n",
       "      <td>20.76</td>\n",
       "      <td>classe1</td>\n",
       "      <td>0</td>\n",
       "      <td>1</td>\n",
       "      <td>0</td>\n",
       "      <td>0</td>\n",
       "    </tr>\n",
       "    <tr>\n",
       "      <th>1</th>\n",
       "      <td>L</td>\n",
       "      <td>23.50</td>\n",
       "      <td>classe1</td>\n",
       "      <td>1</td>\n",
       "      <td>0</td>\n",
       "      <td>0</td>\n",
       "      <td>0</td>\n",
       "    </tr>\n",
       "    <tr>\n",
       "      <th>2</th>\n",
       "      <td>M</td>\n",
       "      <td>40.99</td>\n",
       "      <td>classe2</td>\n",
       "      <td>0</td>\n",
       "      <td>0</td>\n",
       "      <td>1</td>\n",
       "      <td>0</td>\n",
       "    </tr>\n",
       "    <tr>\n",
       "      <th>3</th>\n",
       "      <td>S</td>\n",
       "      <td>10.00</td>\n",
       "      <td>classe3</td>\n",
       "      <td>0</td>\n",
       "      <td>0</td>\n",
       "      <td>0</td>\n",
       "      <td>1</td>\n",
       "    </tr>\n",
       "  </tbody>\n",
       "</table>\n",
       "</div>"
      ],
      "text/plain": [
       "  Taille   Prix   Classe  Coul_blanc  Coul_bleu  Coul_rouge  Coul_vert\n",
       "0     XL  20.76  classe1           0          1           0          0\n",
       "1      L  23.50  classe1           1          0           0          0\n",
       "2      M  40.99  classe2           0          0           1          0\n",
       "3      S  10.00  classe3           0          0           0          1"
      ]
     },
     "metadata": {},
     "output_type": "display_data"
    }
   ],
   "source": [
    "\n",
    "#creation d'une copie de df pour ne pas perdre le df initial\n",
    "df_test=df.copy()\n",
    "\n",
    "print (\"\\n Affichage des transformations\\n\")\n",
    "print (pd.get_dummies(df_test[['Couleur']]))\n",
    "\n",
    "print (\"\\nAjout des colonne au dataframe\")\n",
    "df_test = pd.get_dummies(df_test,columns=['Couleur'],prefix = ['Coul'])\n",
    "\n",
    "display (df_test)\n",
    "\n"
   ]
  },
  {
   "cell_type": "markdown",
   "metadata": {},
   "source": [
    "##  Mise à l'échelle des valeurs attributs (Feature scaling)"
   ]
  },
  {
   "cell_type": "markdown",
   "metadata": {},
   "source": [
    "Le mise à l'échelle des valeurs des attributs (Feature scaling)  est une méthode qui est utilisée pour normaliser les tailles des valeurs des attributs. Elle est aussi appelée **normalisation** (ou **standardisation**) et constitue une étape très importante dans le pré-traitement des données notamment lorsque des distances sont utilisées. C'est le cas par exemple pour KNN, SVM, Regression, ... mais également pour des méthodes de réduction de dimensions comme PCA et même en apprentissage non supervisée (K-Means).  \n",
    "\n",
    "La normalisation est, bien entendu, effectuée attribut par attribut dans le cas où plusieurs attributs doivent être mis à l'échelle. \n"
   ]
  },
  {
   "cell_type": "markdown",
   "metadata": {},
   "source": [
    "<H2> Normalisation (ou min-max scaling)</H2>  \n",
    "\n",
    "La normalisation permet de mettre toutes les valeurs dans un intervalle de [0,1]. Elle suit la formule :  \n",
    "    $$z= \\frac{x-min(x)}{max(x)-min(x)}$$  \n",
    "    \n",
    "En scikit learn la normalisation se fait par la fonction *MinMaxScaler()*. Par défaut MinMaxScaler normalise entre 0 et 1. Il est possible de changer la valeur : *MinMaxScaler(feature_range=(0, 2))* normalisera les valeurs entre 0 et 2."
   ]
  },
  {
   "cell_type": "code",
   "execution_count": 8,
   "metadata": {},
   "outputs": [
    {
     "name": "stdout",
     "output_type": "stream",
     "text": [
      "Création d'un dataframe de 7 valeurs\n"
     ]
    },
    {
     "data": {
      "text/plain": [
       "'Max : '"
      ]
     },
     "metadata": {},
     "output_type": "display_data"
    },
    {
     "data": {
      "text/plain": [
       "Valeur    65.0\n",
       "dtype: float64"
      ]
     },
     "metadata": {},
     "output_type": "display_data"
    },
    {
     "data": {
      "text/plain": [
       "' Min : '"
      ]
     },
     "metadata": {},
     "output_type": "display_data"
    },
    {
     "data": {
      "text/plain": [
       "Valeur   -32.0\n",
       "dtype: float64"
      ]
     },
     "metadata": {},
     "output_type": "display_data"
    },
    {
     "data": {
      "text/html": [
       "<div>\n",
       "<style scoped>\n",
       "    .dataframe tbody tr th:only-of-type {\n",
       "        vertical-align: middle;\n",
       "    }\n",
       "\n",
       "    .dataframe tbody tr th {\n",
       "        vertical-align: top;\n",
       "    }\n",
       "\n",
       "    .dataframe thead th {\n",
       "        text-align: right;\n",
       "    }\n",
       "</style>\n",
       "<table border=\"1\" class=\"dataframe\">\n",
       "  <thead>\n",
       "    <tr style=\"text-align: right;\">\n",
       "      <th></th>\n",
       "      <th>Valeur</th>\n",
       "    </tr>\n",
       "  </thead>\n",
       "  <tbody>\n",
       "    <tr>\n",
       "      <th>0</th>\n",
       "      <td>14.0</td>\n",
       "    </tr>\n",
       "    <tr>\n",
       "      <th>1</th>\n",
       "      <td>-16.0</td>\n",
       "    </tr>\n",
       "    <tr>\n",
       "      <th>2</th>\n",
       "      <td>34.0</td>\n",
       "    </tr>\n",
       "    <tr>\n",
       "      <th>3</th>\n",
       "      <td>17.0</td>\n",
       "    </tr>\n",
       "    <tr>\n",
       "      <th>4</th>\n",
       "      <td>65.0</td>\n",
       "    </tr>\n",
       "    <tr>\n",
       "      <th>5</th>\n",
       "      <td>-32.0</td>\n",
       "    </tr>\n",
       "    <tr>\n",
       "      <th>6</th>\n",
       "      <td>5.0</td>\n",
       "    </tr>\n",
       "  </tbody>\n",
       "</table>\n",
       "</div>"
      ],
      "text/plain": [
       "   Valeur\n",
       "0    14.0\n",
       "1   -16.0\n",
       "2    34.0\n",
       "3    17.0\n",
       "4    65.0\n",
       "5   -32.0\n",
       "6     5.0"
      ]
     },
     "metadata": {},
     "output_type": "display_data"
    },
    {
     "data": {
      "text/plain": [
       "<matplotlib.axes._subplots.AxesSubplot at 0x113d030b8>"
      ]
     },
     "execution_count": 8,
     "metadata": {},
     "output_type": "execute_result"
    }
   ],
   "source": [
    "import pandas as pd\n",
    "import numpy as np\n",
    "#import numpy.random.uniform¶\n",
    "from sklearn import preprocessing\n",
    "\n",
    "print (\"Création d'un dataframe de 7 valeurs\")\n",
    "data = {'Valeur': [14,-16,34,17,65,-32,5]}\n",
    "df = pd.DataFrame(data,dtype='float')\n",
    "#dtype = float car la normalisation considère que les objets sont des float\n",
    "display(\"Max : \",df.max(),\" Min : \",df.min(),df)\n",
    "\n",
    "df.plot(kind='bar')"
   ]
  },
  {
   "cell_type": "code",
   "execution_count": 9,
   "metadata": {},
   "outputs": [
    {
     "name": "stdout",
     "output_type": "stream",
     "text": [
      "Création d'un dataframe normalisé\n"
     ]
    },
    {
     "data": {
      "text/plain": [
       "'Max : '"
      ]
     },
     "metadata": {},
     "output_type": "display_data"
    },
    {
     "data": {
      "text/plain": [
       "Valeur    1.0\n",
       "dtype: float64"
      ]
     },
     "metadata": {},
     "output_type": "display_data"
    },
    {
     "data": {
      "text/plain": [
       "' Min : '"
      ]
     },
     "metadata": {},
     "output_type": "display_data"
    },
    {
     "data": {
      "text/plain": [
       "Valeur    0.0\n",
       "dtype: float64"
      ]
     },
     "metadata": {},
     "output_type": "display_data"
    },
    {
     "data": {
      "text/html": [
       "<div>\n",
       "<style scoped>\n",
       "    .dataframe tbody tr th:only-of-type {\n",
       "        vertical-align: middle;\n",
       "    }\n",
       "\n",
       "    .dataframe tbody tr th {\n",
       "        vertical-align: top;\n",
       "    }\n",
       "\n",
       "    .dataframe thead th {\n",
       "        text-align: right;\n",
       "    }\n",
       "</style>\n",
       "<table border=\"1\" class=\"dataframe\">\n",
       "  <thead>\n",
       "    <tr style=\"text-align: right;\">\n",
       "      <th></th>\n",
       "      <th>Valeur</th>\n",
       "    </tr>\n",
       "  </thead>\n",
       "  <tbody>\n",
       "    <tr>\n",
       "      <th>0</th>\n",
       "      <td>0.474227</td>\n",
       "    </tr>\n",
       "    <tr>\n",
       "      <th>1</th>\n",
       "      <td>0.164948</td>\n",
       "    </tr>\n",
       "    <tr>\n",
       "      <th>2</th>\n",
       "      <td>0.680412</td>\n",
       "    </tr>\n",
       "    <tr>\n",
       "      <th>3</th>\n",
       "      <td>0.505155</td>\n",
       "    </tr>\n",
       "    <tr>\n",
       "      <th>4</th>\n",
       "      <td>1.000000</td>\n",
       "    </tr>\n",
       "    <tr>\n",
       "      <th>5</th>\n",
       "      <td>0.000000</td>\n",
       "    </tr>\n",
       "    <tr>\n",
       "      <th>6</th>\n",
       "      <td>0.381443</td>\n",
       "    </tr>\n",
       "  </tbody>\n",
       "</table>\n",
       "</div>"
      ],
      "text/plain": [
       "     Valeur\n",
       "0  0.474227\n",
       "1  0.164948\n",
       "2  0.680412\n",
       "3  0.505155\n",
       "4  1.000000\n",
       "5  0.000000\n",
       "6  0.381443"
      ]
     },
     "metadata": {},
     "output_type": "display_data"
    },
    {
     "data": {
      "text/plain": [
       "<matplotlib.axes._subplots.AxesSubplot at 0x1140d5208>"
      ]
     },
     "execution_count": 9,
     "metadata": {},
     "output_type": "execute_result"
    },
    {
     "data": {
      "image/png": "[encoded data removed]",
      "text/plain": [
       "<Figure size 432x288 with 1 Axes>"
      ]
     },
     "metadata": {},
     "output_type": "display_data"
    }
   ],
   "source": [
    "print (\"Création d'un dataframe normalisé\")\n",
    "normalise = preprocessing.MinMaxScaler()\n",
    "df_normalise = normalise.fit_transform(df)\n",
    "df_normalise = pd.DataFrame(df_normalise, columns=['Valeur'])\n",
    "\n",
    "display(\"Max : \",df_normalise.max(),\" Min : \",df_normalise.min(),df_normalise)\n",
    "df_normalise.plot(kind='bar')"
   ]
  },
  {
   "cell_type": "code",
   "execution_count": 10,
   "metadata": {},
   "outputs": [
    {
     "data": {
      "text/plain": [
       "'Max : '"
      ]
     },
     "metadata": {},
     "output_type": "display_data"
    },
    {
     "data": {
      "text/plain": [
       "Valeur    2.0\n",
       "dtype: float64"
      ]
     },
     "metadata": {},
     "output_type": "display_data"
    },
    {
     "data": {
      "text/plain": [
       "' Min : '"
      ]
     },
     "metadata": {},
     "output_type": "display_data"
    },
    {
     "data": {
      "text/plain": [
       "Valeur    0.0\n",
       "dtype: float64"
      ]
     },
     "metadata": {},
     "output_type": "display_data"
    },
    {
     "data": {
      "text/html": [
       "<div>\n",
       "<style scoped>\n",
       "    .dataframe tbody tr th:only-of-type {\n",
       "        vertical-align: middle;\n",
       "    }\n",
       "\n",
       "    .dataframe tbody tr th {\n",
       "        vertical-align: top;\n",
       "    }\n",
       "\n",
       "    .dataframe thead th {\n",
       "        text-align: right;\n",
       "    }\n",
       "</style>\n",
       "<table border=\"1\" class=\"dataframe\">\n",
       "  <thead>\n",
       "    <tr style=\"text-align: right;\">\n",
       "      <th></th>\n",
       "      <th>Valeur</th>\n",
       "    </tr>\n",
       "  </thead>\n",
       "  <tbody>\n",
       "    <tr>\n",
       "      <th>0</th>\n",
       "      <td>0.948454</td>\n",
       "    </tr>\n",
       "    <tr>\n",
       "      <th>1</th>\n",
       "      <td>0.329897</td>\n",
       "    </tr>\n",
       "    <tr>\n",
       "      <th>2</th>\n",
       "      <td>1.360825</td>\n",
       "    </tr>\n",
       "    <tr>\n",
       "      <th>3</th>\n",
       "      <td>1.010309</td>\n",
       "    </tr>\n",
       "    <tr>\n",
       "      <th>4</th>\n",
       "      <td>2.000000</td>\n",
       "    </tr>\n",
       "    <tr>\n",
       "      <th>5</th>\n",
       "      <td>0.000000</td>\n",
       "    </tr>\n",
       "    <tr>\n",
       "      <th>6</th>\n",
       "      <td>0.762887</td>\n",
       "    </tr>\n",
       "  </tbody>\n",
       "</table>\n",
       "</div>"
      ],
      "text/plain": [
       "     Valeur\n",
       "0  0.948454\n",
       "1  0.329897\n",
       "2  1.360825\n",
       "3  1.010309\n",
       "4  2.000000\n",
       "5  0.000000\n",
       "6  0.762887"
      ]
     },
     "metadata": {},
     "output_type": "display_data"
    },
    {
     "data": {
      "text/plain": [
       "<matplotlib.axes._subplots.AxesSubplot at 0x114150a90>"
      ]
     },
     "execution_count": 10,
     "metadata": {},
     "output_type": "execute_result"
    },
    {
     "data": {
      "image/png": "[encoded data removed]",
      "text/plain": [
       "<Figure size 432x288 with 1 Axes>"
      ]
     },
     "metadata": {},
     "output_type": "display_data"
    }
   ],
   "source": [
    "#scaler = MinMaxScaler(feature_range=(0, 1)) \n",
    "normalise = preprocessing.MinMaxScaler(feature_range=(0, 2))\n",
    "df_normalise = normalise.fit_transform(df)\n",
    "df_normalise = pd.DataFrame(df_normalise, columns=['Valeur'])\n",
    "\n",
    "display(\"Max : \",df_normalise.max(),\" Min : \",df_normalise.min(),df_normalise)\n",
    "df_normalise.plot(kind='bar')"
   ]
  },
  {
   "cell_type": "markdown",
   "metadata": {},
   "source": [
    "L'exemple suivant illustre l'intérêt de normaliser plusieurs attributs. Il contient trois attributs où chaque valeur est prise au hasard en fonction d'une loi de distribution différente (2 assymétriques et 1 symétrique) : une avec une loi de distribution $X^2$ (https://fr.wikipedia.org/wiki/Loi_du_χ²), une avec une loi bêta (https://fr.wikipedia.org/wiki/Loi_bêta) et une avec une loi normale. L’asymétrie d’une distribution est positive si la queue de droite (à valeurs hautes) est plus longue ou grosse, et négative si la queue de gauche (à valeurs basses) est plus longue ou grosse (https://fr.wikipedia.org/wiki/Asymétrie_(statistiques)).\n"
   ]
  },
  {
   "cell_type": "code",
   "execution_count": 34,
   "metadata": {},
   "outputs": [],
   "source": [
    "df = pd.DataFrame({\n",
    "    # asymétrie positive\n",
    "    'ChiSquare': np.random.chisquare(3, 1000)+50,\n",
    "    # asymétrie négative\n",
    "    'Beta': np.random.beta(20, 1, 1000)*30,\n",
    "    # pas d'asymétrie\n",
    "    'Normale': np.random.normal(110, 15, 1000)\n",
    "})"
   ]
  },
  {
   "cell_type": "code",
   "execution_count": 35,
   "metadata": {},
   "outputs": [
    {
     "name": "stderr",
     "output_type": "stream",
     "text": [
      "/Users/pascalponcelet/Desktop/Sicki-learn/Tools/tools/lib/python3.6/site-packages/matplotlib/axes/_axes.py:6521: MatplotlibDeprecationWarning: \n",
      "The 'normed' kwarg was deprecated in Matplotlib 2.1 and will be removed in 3.1. Use 'density' instead.\n",
      "  alternative=\"'density'\", removal=\"3.1\")\n"
     ]
    },
    {
     "data": {
      "image/png": "[encoded data removed]",
      "text/plain": [
       "<Figure size 720x576 with 2 Axes>"
      ]
     },
     "metadata": {},
     "output_type": "display_data"
    }
   ],
   "source": [
    "import matplotlib.pyplot as plt\n",
    "import seaborn as sns\n",
    "scaler = preprocessing.MinMaxScaler()\n",
    "scaled_df = scaler.fit_transform(df)\n",
    "scaled_df = pd.DataFrame(scaled_df, columns=['ChiSquare', 'Beta', 'Normale'])\n",
    "\n",
    "fig, (ax1, ax2) = plt.subplots(ncols=2, figsize=(10, 8))\n",
    "ax1.set_title('Avant le scaling')\n",
    "sns.distplot(df['ChiSquare'], ax=ax1,kde=True)\n",
    "sns.distplot(df['Beta'], ax=ax1,kde=True)\n",
    "sns.distplot(df['Normale'], ax=ax1,kde=True)\n",
    "\n",
    "ax2.set_title('Après le min-max scaling')\n",
    "sns.distplot(scaled_df['ChiSquare'], ax=ax2,kde=True)\n",
    "sns.distplot(scaled_df['Beta'], ax=ax2,kde=True)\n",
    "sns.distplot(scaled_df['Normale'], ax=ax2,kde=True)\n",
    "\n",
    "plt.show()"
   ]
  },
  {
   "cell_type": "markdown",
   "metadata": {},
   "source": [
    "Nous pouvons constater que les asymétries restent les mêmes mais que maintenant toutes les valeurs sont comprises entre 0 et 1."
   ]
  },
  {
   "cell_type": "markdown",
   "metadata": {},
   "source": [
    "<H2> Standardisation </H2>\n",
    "\n",
    "\n",
    "La standardisation est utile lorsque les attributs suivent des lois normales mais avec des moyennes et écarts type différents. Elle permet, par exemple, de rendre les algorithmes moins sensibles aux outliers.  \n",
    "\n",
    "En scikit learn la standardisation se fait par la fonction StandardScaler() en appliquant :  \n",
    "\n",
    "$$z=\\frac{x_i - \\mu}{\\sigma}\\\\\n",
    "$$\n",
    "où $\\mu$ représente la moyenne (*mean*) et $\\sigma$ l'écart type (*standard deviation*).  \n",
    "\n",
    "\n",
    "Rappel : (https://fr.wikipedia.org/wiki/Loi_normale)  \n",
    "Lorsqu'une variable aléatoire $X$ suit la loi normale, elle est dite *gaussienne* ou *normale* et il est habituel d'utiliser la notation avec la variance $\\sigma^2$ :\n",
    "$$X \\sim \\mathcal{N}(\\mu, \\sigma^2)$$\n",
    "\n",
    "StandardScaler  suppose donc que les données suivent une loi normale et les redimensionne pour que la distribution soit centrée autour de 0 avec un écart-type de 1.   Elle vise donc à transformer les valeurs pour qu'elles répondent à la même loi normale $$X \\sim \\mathcal{N} (0, \\, 1)$$.\n",
    "\n",
    "Il est toujours intéressant d'afficher la distribution des données pour voir si ces dernières peuvent être standardisées."
   ]
  },
  {
   "cell_type": "code",
   "execution_count": 13,
   "metadata": {},
   "outputs": [
    {
     "data": {
      "text/html": [
       "<div>\n",
       "<style scoped>\n",
       "    .dataframe tbody tr th:only-of-type {\n",
       "        vertical-align: middle;\n",
       "    }\n",
       "\n",
       "    .dataframe tbody tr th {\n",
       "        vertical-align: top;\n",
       "    }\n",
       "\n",
       "    .dataframe thead th {\n",
       "        text-align: right;\n",
       "    }\n",
       "</style>\n",
       "<table border=\"1\" class=\"dataframe\">\n",
       "  <thead>\n",
       "    <tr style=\"text-align: right;\">\n",
       "      <th></th>\n",
       "      <th>Valeur</th>\n",
       "    </tr>\n",
       "  </thead>\n",
       "  <tbody>\n",
       "    <tr>\n",
       "      <th>0</th>\n",
       "      <td>10.0</td>\n",
       "    </tr>\n",
       "    <tr>\n",
       "      <th>1</th>\n",
       "      <td>9.0</td>\n",
       "    </tr>\n",
       "    <tr>\n",
       "      <th>2</th>\n",
       "      <td>8.0</td>\n",
       "    </tr>\n",
       "    <tr>\n",
       "      <th>3</th>\n",
       "      <td>7.0</td>\n",
       "    </tr>\n",
       "    <tr>\n",
       "      <th>4</th>\n",
       "      <td>6.0</td>\n",
       "    </tr>\n",
       "  </tbody>\n",
       "</table>\n",
       "</div>"
      ],
      "text/plain": [
       "   Valeur\n",
       "0    10.0\n",
       "1     9.0\n",
       "2     8.0\n",
       "3     7.0\n",
       "4     6.0"
      ]
     },
     "metadata": {},
     "output_type": "display_data"
    },
    {
     "data": {
      "text/plain": [
       "'Moyenne '"
      ]
     },
     "metadata": {},
     "output_type": "display_data"
    },
    {
     "data": {
      "text/plain": [
       "7.5"
      ]
     },
     "metadata": {},
     "output_type": "display_data"
    },
    {
     "data": {
      "text/plain": [
       "' Ecart type '"
      ]
     },
     "metadata": {},
     "output_type": "display_data"
    },
    {
     "data": {
      "text/plain": [
       "1.7837651700316894"
      ]
     },
     "metadata": {},
     "output_type": "display_data"
    },
    {
     "data": {
      "image/png": "[encoded data removed]",
      "text/plain": [
       "<Figure size 576x432 with 1 Axes>"
      ]
     },
     "metadata": {},
     "output_type": "display_data"
    }
   ],
   "source": [
    "import numpy as np\n",
    "from pandas import DataFrame\n",
    "\n",
    "\n",
    "df = pd.DataFrame(\n",
    "    {'Valeur': [10,9,8,7,6,5,5,6,7,8,9,10]}, \n",
    "     dtype='float',\n",
    "     columns=['Valeur'])\n",
    "\n",
    "display(df.head(),\"Moyenne \",df['Valeur'].mean(),\" Ecart type \",df['Valeur'].std())\n",
    "\n",
    "fig, ax1 = plt.subplots(ncols=1, figsize=(8, 6))\n",
    "title='X ~ N(''%0.2f'%df['Valeur'].mean()+\",%0.2f\"%df['Valeur'].std()+'^2)'\n",
    "ax1.set_title(title)\n",
    "\n",
    "sns.kdeplot(df['Valeur'], ax=ax1);"
   ]
  },
  {
   "cell_type": "code",
   "execution_count": 14,
   "metadata": {},
   "outputs": [
    {
     "name": "stdout",
     "output_type": "stream",
     "text": [
      "Création d'un dataframe avec StandardScaler\n"
     ]
    },
    {
     "data": {
      "text/html": [
       "<div>\n",
       "<style scoped>\n",
       "    .dataframe tbody tr th:only-of-type {\n",
       "        vertical-align: middle;\n",
       "    }\n",
       "\n",
       "    .dataframe tbody tr th {\n",
       "        vertical-align: top;\n",
       "    }\n",
       "\n",
       "    .dataframe thead th {\n",
       "        text-align: right;\n",
       "    }\n",
       "</style>\n",
       "<table border=\"1\" class=\"dataframe\">\n",
       "  <thead>\n",
       "    <tr style=\"text-align: right;\">\n",
       "      <th></th>\n",
       "      <th>Valeur</th>\n",
       "    </tr>\n",
       "  </thead>\n",
       "  <tbody>\n",
       "    <tr>\n",
       "      <th>0</th>\n",
       "      <td>1.46385</td>\n",
       "    </tr>\n",
       "    <tr>\n",
       "      <th>1</th>\n",
       "      <td>0.87831</td>\n",
       "    </tr>\n",
       "    <tr>\n",
       "      <th>2</th>\n",
       "      <td>0.29277</td>\n",
       "    </tr>\n",
       "    <tr>\n",
       "      <th>3</th>\n",
       "      <td>-0.29277</td>\n",
       "    </tr>\n",
       "    <tr>\n",
       "      <th>4</th>\n",
       "      <td>-0.87831</td>\n",
       "    </tr>\n",
       "    <tr>\n",
       "      <th>5</th>\n",
       "      <td>-1.46385</td>\n",
       "    </tr>\n",
       "    <tr>\n",
       "      <th>6</th>\n",
       "      <td>-1.46385</td>\n",
       "    </tr>\n",
       "    <tr>\n",
       "      <th>7</th>\n",
       "      <td>-0.87831</td>\n",
       "    </tr>\n",
       "    <tr>\n",
       "      <th>8</th>\n",
       "      <td>-0.29277</td>\n",
       "    </tr>\n",
       "    <tr>\n",
       "      <th>9</th>\n",
       "      <td>0.29277</td>\n",
       "    </tr>\n",
       "    <tr>\n",
       "      <th>10</th>\n",
       "      <td>0.87831</td>\n",
       "    </tr>\n",
       "    <tr>\n",
       "      <th>11</th>\n",
       "      <td>1.46385</td>\n",
       "    </tr>\n",
       "  </tbody>\n",
       "</table>\n",
       "</div>"
      ],
      "text/plain": [
       "     Valeur\n",
       "0   1.46385\n",
       "1   0.87831\n",
       "2   0.29277\n",
       "3  -0.29277\n",
       "4  -0.87831\n",
       "5  -1.46385\n",
       "6  -1.46385\n",
       "7  -0.87831\n",
       "8  -0.29277\n",
       "9   0.29277\n",
       "10  0.87831\n",
       "11  1.46385"
      ]
     },
     "metadata": {},
     "output_type": "display_data"
    },
    {
     "data": {
      "text/plain": [
       "'Moyenne '"
      ]
     },
     "metadata": {},
     "output_type": "display_data"
    },
    {
     "data": {
      "text/plain": [
       "-1.850371707708594e-17"
      ]
     },
     "metadata": {},
     "output_type": "display_data"
    },
    {
     "data": {
      "text/plain": [
       "' Ecart type '"
      ]
     },
     "metadata": {},
     "output_type": "display_data"
    },
    {
     "data": {
      "text/plain": [
       "1.044465935734187"
      ]
     },
     "metadata": {},
     "output_type": "display_data"
    },
    {
     "data": {
      "image/png": "[encoded data removed]",
      "text/plain": [
       "<Figure size 576x432 with 1 Axes>"
      ]
     },
     "metadata": {},
     "output_type": "display_data"
    }
   ],
   "source": [
    "from sklearn.preprocessing import StandardScaler\n",
    "\n",
    "print (\"Création d'un dataframe avec StandardScaler\")\n",
    "standardscaler = preprocessing.StandardScaler()\n",
    "df_standardscale = standardscaler.fit_transform(df)\n",
    "df_standardscale = pd.DataFrame(df_standardscale, columns=['Valeur'])\n",
    "\n",
    "display(df_standardscale,\"Moyenne \",df_standardscale['Valeur'].mean(),\" Ecart type \",df_standardscale['Valeur'].std())\n",
    "\n",
    "fig, ax1 = plt.subplots(ncols=1, figsize=(8, 6))\n",
    "title='X ~ N(''%0.2f'%df_standardscale['Valeur'].mean()+\",%0.2f\"%df_standardscale['Valeur'].std()+'^2)'\n",
    "ax1.set_title(title)\n",
    "\n",
    "sns.kdeplot(df_standardscale['Valeur'], ax=ax1);"
   ]
  },
  {
   "cell_type": "markdown",
   "metadata": {},
   "source": [
    "Comme précédémment, le code suivant illustre la standardisation avec \n",
    "$$X \\sim \\mathcal{N}(10, 2^2)$$\n",
    "$$X \\sim \\mathcal{N}(40, 7^2)$$\n",
    "$$X \\sim \\mathcal{N}(110, 15^2)$$."
   ]
  },
  {
   "cell_type": "code",
   "execution_count": 15,
   "metadata": {},
   "outputs": [],
   "source": [
    "df = pd.DataFrame({\n",
    "    'Normale1': np.random.normal(10, 2,1000),\n",
    "    'Normale2': np.random.normal(40, 7, 1000),\n",
    "    'Normale3': np.random.normal(110, 15, 1000)\n",
    "})"
   ]
  },
  {
   "cell_type": "code",
   "execution_count": 16,
   "metadata": {},
   "outputs": [
    {
     "name": "stderr",
     "output_type": "stream",
     "text": [
      "/Users/pascalponcelet/Desktop/Sicki-learn/Tools/tools/lib/python3.6/site-packages/matplotlib/axes/_axes.py:6521: MatplotlibDeprecationWarning: \n",
      "The 'normed' kwarg was deprecated in Matplotlib 2.1 and will be removed in 3.1. Use 'density' instead.\n",
      "  alternative=\"'density'\", removal=\"3.1\")\n"
     ]
    },
    {
     "data": {
      "image/png": "[encoded data removed]",
      "text/plain": [
       "<Figure size 720x576 with 2 Axes>"
      ]
     },
     "metadata": {},
     "output_type": "display_data"
    }
   ],
   "source": [
    "\n",
    "standardscaler = preprocessing.StandardScaler()\n",
    "df_standardscale = standardscaler.fit_transform(df)\n",
    "df_standardscale = pd.DataFrame(df_standardscale, columns=['Normale1', 'Normale2', 'Normale3'])\n",
    "\n",
    "\n",
    "fig, (ax1, ax2) = plt.subplots(ncols=2, figsize=(10, 8))\n",
    "ax1.set_title('Avant le standard scaling')\n",
    "sns.distplot(df['Normale1'], ax=ax1)\n",
    "sns.distplot(df['Normale2'], ax=ax1)\n",
    "sns.distplot(df['Normale3'], ax=ax1)\n",
    "\n",
    "ax2.set_title('Après le standard scaling')\n",
    "sns.distplot(df_standardscale['Normale1'], ax=ax2)\n",
    "sns.distplot(df_standardscale['Normale2'], ax=ax2)\n",
    "sns.distplot(df_standardscale['Normale3'], ax=ax2)\n",
    "\n",
    "plt.show()"
   ]
  },
  {
   "cell_type": "markdown",
   "metadata": {},
   "source": [
    "## Traitement des valeurs manquantes"
   ]
  },
  {
   "cell_type": "markdown",
   "metadata": {},
   "source": [
    "Dans les données réelles, de très nombreuses fois et pour différentes raisons (données corrompues, données inexistantes, extraction incomplète, etc.) des valeurs peuvent être absentes ou apparaître sous la forme d'outlier. Généralement on parle de **valeurs manquantes** et elles peuvent proser de nombreux problèmes pour certains classifiers qui y sont très sensibles (e.g. SVM).  \n",
    "\n",
    "En fonction des domaines, elles peuvent apparaître sous la forme de -1, 0, -999 ou NaN (Not a Number). Pandas, numpy et scikit learn utilisent NaN pour les valeurs manquantes et toutes valeurs avec NaN sont ignorées dans les opérations d'agrégation comme sum, count, etc.  Il est donc préférable de remplacer toutes les valeurs manquantes par NaN.\n",
    "\n",
    "Pour remplacer des données sous la forme de NaN il suffit d'utiliser la fonction *replace()* du dataframe.\n",
    "\n"
   ]
  },
  {
   "cell_type": "code",
   "execution_count": 17,
   "metadata": {},
   "outputs": [
    {
     "name": "stdout",
     "output_type": "stream",
     "text": [
      "Remplacement valeur -1 en nan\n",
      "\n",
      "Avant :\n"
     ]
    },
    {
     "data": {
      "text/html": [
       "<div>\n",
       "<style scoped>\n",
       "    .dataframe tbody tr th:only-of-type {\n",
       "        vertical-align: middle;\n",
       "    }\n",
       "\n",
       "    .dataframe tbody tr th {\n",
       "        vertical-align: top;\n",
       "    }\n",
       "\n",
       "    .dataframe thead th {\n",
       "        text-align: right;\n",
       "    }\n",
       "</style>\n",
       "<table border=\"1\" class=\"dataframe\">\n",
       "  <thead>\n",
       "    <tr style=\"text-align: right;\">\n",
       "      <th></th>\n",
       "      <th>0</th>\n",
       "      <th>1</th>\n",
       "      <th>2</th>\n",
       "    </tr>\n",
       "  </thead>\n",
       "  <tbody>\n",
       "    <tr>\n",
       "      <th>0</th>\n",
       "      <td>7</td>\n",
       "      <td>2</td>\n",
       "      <td>3</td>\n",
       "    </tr>\n",
       "    <tr>\n",
       "      <th>1</th>\n",
       "      <td>4</td>\n",
       "      <td>-1</td>\n",
       "      <td>6</td>\n",
       "    </tr>\n",
       "    <tr>\n",
       "      <th>2</th>\n",
       "      <td>10</td>\n",
       "      <td>5</td>\n",
       "      <td>9</td>\n",
       "    </tr>\n",
       "  </tbody>\n",
       "</table>\n",
       "</div>"
      ],
      "text/plain": [
       "    0  1  2\n",
       "0   7  2  3\n",
       "1   4 -1  6\n",
       "2  10  5  9"
      ]
     },
     "metadata": {},
     "output_type": "display_data"
    },
    {
     "name": "stdout",
     "output_type": "stream",
     "text": [
      "Après :\n"
     ]
    },
    {
     "data": {
      "text/html": [
       "<div>\n",
       "<style scoped>\n",
       "    .dataframe tbody tr th:only-of-type {\n",
       "        vertical-align: middle;\n",
       "    }\n",
       "\n",
       "    .dataframe tbody tr th {\n",
       "        vertical-align: top;\n",
       "    }\n",
       "\n",
       "    .dataframe thead th {\n",
       "        text-align: right;\n",
       "    }\n",
       "</style>\n",
       "<table border=\"1\" class=\"dataframe\">\n",
       "  <thead>\n",
       "    <tr style=\"text-align: right;\">\n",
       "      <th></th>\n",
       "      <th>0</th>\n",
       "      <th>1</th>\n",
       "      <th>2</th>\n",
       "    </tr>\n",
       "  </thead>\n",
       "  <tbody>\n",
       "    <tr>\n",
       "      <th>0</th>\n",
       "      <td>7</td>\n",
       "      <td>2.0</td>\n",
       "      <td>3</td>\n",
       "    </tr>\n",
       "    <tr>\n",
       "      <th>1</th>\n",
       "      <td>4</td>\n",
       "      <td>NaN</td>\n",
       "      <td>6</td>\n",
       "    </tr>\n",
       "    <tr>\n",
       "      <th>2</th>\n",
       "      <td>10</td>\n",
       "      <td>5.0</td>\n",
       "      <td>9</td>\n",
       "    </tr>\n",
       "  </tbody>\n",
       "</table>\n",
       "</div>"
      ],
      "text/plain": [
       "    0    1  2\n",
       "0   7  2.0  3\n",
       "1   4  NaN  6\n",
       "2  10  5.0  9"
      ]
     },
     "metadata": {},
     "output_type": "display_data"
    }
   ],
   "source": [
    "import pandas as pd\n",
    "import numpy as np\n",
    "data = [[7, 2, 3], [4, -1, 6], [10, 5, 9]]\n",
    "print('Remplacement valeur -1 en nan\\n')\n",
    "df = pd.DataFrame(data)\n",
    "print ('Avant :')\n",
    "display(df)\n",
    "df=df.replace(-1,np.nan)\n",
    "print ('Après :')\n",
    "display(df)"
   ]
  },
  {
   "cell_type": "markdown",
   "metadata": {},
   "source": [
    "Il existe différentes stratégies, en fonction des données et du domaine, pour traiter les valeurs manquantes :   \n",
    "1. Supprimer les lignes contenant des valeurs manquantes\n",
    "1. Remplacer les valeurs par *mean*, *median*, *mode*\n",
    "1. Mettre une catégorie unique\n",
    "1. Prédire la valeur manquante  \n",
    "\n",
    "Chaque stratégie a des avantages et des inconvénients. Au travers de l'exemple suivant nous illustrons les différentes stratégies et les fonctionnalités de sickit learn pour les traiter.  "
   ]
  },
  {
   "cell_type": "code",
   "execution_count": 18,
   "metadata": {},
   "outputs": [],
   "source": [
    "\n",
    "#Création de fichiers exemples\n",
    "fichier = open(\"exemplenullvalues.csv\", \"w\")\n",
    "fichier.write(\"Nom;Age;Dept;Sal;Prime\\n\")\n",
    "fichier.write(\"Marie;22;;48000;1\\n\")\n",
    "fichier.write(\"Isabelle;;Comptable;52000;0\\n\")\n",
    "fichier.write(\"Pierre;35;Informatique;;1\\n\")\n",
    "fichier.write(\"Paul;43;Commercial;49000;1\\n\")\n",
    "fichier.write(\"Jean;;Commercial;;0\\n\")\n",
    "fichier.write(\"Michel;35;;51000;0\\n\")\n",
    "fichier.write(\"Nancy;45;;66000;1\\n\")\n",
    "fichier.close()\n",
    "\n"
   ]
  },
  {
   "cell_type": "markdown",
   "metadata": {},
   "source": [
    "Pour connaître le nombre de valeurs manquantes : "
   ]
  },
  {
   "cell_type": "code",
   "execution_count": 19,
   "metadata": {},
   "outputs": [
    {
     "data": {
      "text/html": [
       "<div>\n",
       "<style scoped>\n",
       "    .dataframe tbody tr th:only-of-type {\n",
       "        vertical-align: middle;\n",
       "    }\n",
       "\n",
       "    .dataframe tbody tr th {\n",
       "        vertical-align: top;\n",
       "    }\n",
       "\n",
       "    .dataframe thead th {\n",
       "        text-align: right;\n",
       "    }\n",
       "</style>\n",
       "<table border=\"1\" class=\"dataframe\">\n",
       "  <thead>\n",
       "    <tr style=\"text-align: right;\">\n",
       "      <th></th>\n",
       "      <th>Nom</th>\n",
       "      <th>Age</th>\n",
       "      <th>Dept</th>\n",
       "      <th>Sal</th>\n",
       "      <th>Prime</th>\n",
       "    </tr>\n",
       "  </thead>\n",
       "  <tbody>\n",
       "    <tr>\n",
       "      <th>0</th>\n",
       "      <td>Marie</td>\n",
       "      <td>22.0</td>\n",
       "      <td>NaN</td>\n",
       "      <td>48000.0</td>\n",
       "      <td>1</td>\n",
       "    </tr>\n",
       "    <tr>\n",
       "      <th>1</th>\n",
       "      <td>Isabelle</td>\n",
       "      <td>NaN</td>\n",
       "      <td>Comptable</td>\n",
       "      <td>52000.0</td>\n",
       "      <td>0</td>\n",
       "    </tr>\n",
       "    <tr>\n",
       "      <th>2</th>\n",
       "      <td>Pierre</td>\n",
       "      <td>35.0</td>\n",
       "      <td>Informatique</td>\n",
       "      <td>NaN</td>\n",
       "      <td>1</td>\n",
       "    </tr>\n",
       "    <tr>\n",
       "      <th>3</th>\n",
       "      <td>Paul</td>\n",
       "      <td>43.0</td>\n",
       "      <td>Commercial</td>\n",
       "      <td>49000.0</td>\n",
       "      <td>1</td>\n",
       "    </tr>\n",
       "    <tr>\n",
       "      <th>4</th>\n",
       "      <td>Jean</td>\n",
       "      <td>NaN</td>\n",
       "      <td>Commercial</td>\n",
       "      <td>NaN</td>\n",
       "      <td>0</td>\n",
       "    </tr>\n",
       "    <tr>\n",
       "      <th>5</th>\n",
       "      <td>Michel</td>\n",
       "      <td>35.0</td>\n",
       "      <td>NaN</td>\n",
       "      <td>51000.0</td>\n",
       "      <td>0</td>\n",
       "    </tr>\n",
       "    <tr>\n",
       "      <th>6</th>\n",
       "      <td>Nancy</td>\n",
       "      <td>45.0</td>\n",
       "      <td>NaN</td>\n",
       "      <td>66000.0</td>\n",
       "      <td>1</td>\n",
       "    </tr>\n",
       "  </tbody>\n",
       "</table>\n",
       "</div>"
      ],
      "text/plain": [
       "        Nom   Age          Dept      Sal  Prime\n",
       "0     Marie  22.0           NaN  48000.0      1\n",
       "1  Isabelle   NaN     Comptable  52000.0      0\n",
       "2    Pierre  35.0  Informatique      NaN      1\n",
       "3      Paul  43.0    Commercial  49000.0      1\n",
       "4      Jean   NaN    Commercial      NaN      0\n",
       "5    Michel  35.0           NaN  51000.0      0\n",
       "6     Nancy  45.0           NaN  66000.0      1"
      ]
     },
     "metadata": {},
     "output_type": "display_data"
    },
    {
     "name": "stdout",
     "output_type": "stream",
     "text": [
      "Par rapport aux colonnes :\n",
      "\n",
      "<class 'pandas.core.frame.DataFrame'>\n",
      "RangeIndex: 7 entries, 0 to 6\n",
      "Data columns (total 5 columns):\n",
      "Nom      7 non-null object\n",
      "Age      5 non-null float64\n",
      "Dept     4 non-null object\n",
      "Sal      5 non-null float64\n",
      "Prime    7 non-null int64\n",
      "dtypes: float64(2), int64(1), object(2)\n",
      "memory usage: 360.0+ bytes\n"
     ]
    },
    {
     "data": {
      "text/plain": [
       "None"
      ]
     },
     "metadata": {},
     "output_type": "display_data"
    },
    {
     "name": "stdout",
     "output_type": "stream",
     "text": [
      "\n",
      "Par rapport aux différentes lignes :\n",
      "\n"
     ]
    },
    {
     "data": {
      "text/plain": [
       "0    1\n",
       "1    1\n",
       "2    1\n",
       "3    0\n",
       "4    2\n",
       "5    1\n",
       "6    1\n",
       "dtype: int64"
      ]
     },
     "metadata": {},
     "output_type": "display_data"
    }
   ],
   "source": [
    "df = pd.read_csv('exemplenullvalues.csv',sep=';')\n",
    "display (df)\n",
    "\n",
    "\n",
    "print ('Par rapport aux colonnes :\\n')\n",
    "display (df.info())\n",
    "print ('\\nPar rapport aux différentes lignes :\\n')\n",
    "display (df.isnull().sum(axis=1))\n"
   ]
  },
  {
   "cell_type": "markdown",
   "metadata": {},
   "source": [
    "<H2>Supprimer les lignes contenant des valeurs manquantes</H2>  \n",
    "\n",
    "Pour supprimer simplement les lignes (ou les colonnes) qui contiennent des valeurs manquantes, il est possible d'utiliser la fonction dropna sur le dataframe :  \n",
    "*DataFrame.dropna(axis=0, how='any', thresh=None, subset=None, inplace=False)*  \n",
    "\n",
    "\n"
   ]
  },
  {
   "cell_type": "code",
   "execution_count": 20,
   "metadata": {},
   "outputs": [
    {
     "name": "stdout",
     "output_type": "stream",
     "text": [
      "Suppression des lignes pour lesquelles au moins un élément est manquant \n",
      "\n",
      "    Nom   Age        Dept      Sal  Prime\n",
      "3  Paul  43.0  Commercial  49000.0      1\n",
      "\n",
      "Suppression des colonnes pour lesquelles au moins un élément est manquant \n",
      "\n",
      "        Nom  Prime\n",
      "0     Marie      1\n",
      "1  Isabelle      0\n",
      "2    Pierre      1\n",
      "3      Paul      1\n",
      "4      Jean      0\n",
      "5    Michel      0\n",
      "6     Nancy      1\n",
      "\n",
      "Suppression des lignes qui ont au moins 4 valeurs non manquantes\n",
      "\n",
      "        Nom   Age          Dept      Sal  Prime\n",
      "0     Marie  22.0           NaN  48000.0      1\n",
      "1  Isabelle   NaN     Comptable  52000.0      0\n",
      "2    Pierre  35.0  Informatique      NaN      1\n",
      "3      Paul  43.0    Commercial  49000.0      1\n",
      "5    Michel  35.0           NaN  51000.0      0\n",
      "6     Nancy  45.0           NaN  66000.0      1\n",
      "La ligne 4 n'apparait plus car elle a 2 valeurs manquantes sur les 5 colonnes\n",
      "\n",
      "Remplacement du dataframe initial en supprimant les lignes manquantes\n"
     ]
    },
    {
     "data": {
      "text/html": [
       "<div>\n",
       "<style scoped>\n",
       "    .dataframe tbody tr th:only-of-type {\n",
       "        vertical-align: middle;\n",
       "    }\n",
       "\n",
       "    .dataframe tbody tr th {\n",
       "        vertical-align: top;\n",
       "    }\n",
       "\n",
       "    .dataframe thead th {\n",
       "        text-align: right;\n",
       "    }\n",
       "</style>\n",
       "<table border=\"1\" class=\"dataframe\">\n",
       "  <thead>\n",
       "    <tr style=\"text-align: right;\">\n",
       "      <th></th>\n",
       "      <th>Nom</th>\n",
       "      <th>Age</th>\n",
       "      <th>Dept</th>\n",
       "      <th>Sal</th>\n",
       "      <th>Prime</th>\n",
       "    </tr>\n",
       "  </thead>\n",
       "  <tbody>\n",
       "    <tr>\n",
       "      <th>3</th>\n",
       "      <td>Paul</td>\n",
       "      <td>43.0</td>\n",
       "      <td>Commercial</td>\n",
       "      <td>49000.0</td>\n",
       "      <td>1</td>\n",
       "    </tr>\n",
       "  </tbody>\n",
       "</table>\n",
       "</div>"
      ],
      "text/plain": [
       "    Nom   Age        Dept      Sal  Prime\n",
       "3  Paul  43.0  Commercial  49000.0      1"
      ]
     },
     "metadata": {},
     "output_type": "display_data"
    }
   ],
   "source": [
    "df_test = df.copy() #pour tester\n",
    "print ('Suppression des lignes pour lesquelles au moins un élément est manquant \\n')\n",
    "print (df_test.dropna())\n",
    "\n",
    "print ('\\nSuppression des colonnes pour lesquelles au moins un élément est manquant \\n')\n",
    "print (df_test.dropna(axis=\"columns\"))\n",
    "\n",
    "print ('\\nSuppression des lignes qui ont au moins 4 valeurs non manquantes\\n')\n",
    "print (df_test.dropna(thresh=4))\n",
    "print (\"La ligne 4 n'apparait plus car elle a 2 valeurs manquantes sur les 5 colonnes\")\n",
    "\n",
    "print ('\\nRemplacement du dataframe initial en supprimant les lignes manquantes')\n",
    "df_test.dropna(inplace=True)\n",
    "display(df_test)"
   ]
  },
  {
   "cell_type": "markdown",
   "metadata": {},
   "source": [
    "**Remarques**  \n",
    "La suppression des lignes permet de pouvoir utiliser des classifiers qui sont sensibles aux valeurs manquantes.  \n",
    "L'utilisation de ces méthodes risquent de supprimer de nombreuses informations (C.f. le dernier exemple). Il est conseillé de ne pas les utiliser si le nombre d'objets supprimés est trop grand. Le remplacement est généralement préférable à la suppression des données."
   ]
  },
  {
   "cell_type": "markdown",
   "metadata": {},
   "source": [
    "<H2>Remplacer les valeurs par mean, median, mode</H2>  \n",
    "\n",
    "Pour les variables numériques, il est possible de remplacer les valeurs manquantes par la moyenne, la médianne, le mode, etc. Rappel : dans une série le mode correspond à une valeur dominante, i.e. la valeur la plus représentée d'une variable quelconque dans une population donnée. Le choix dépend bien entendu du contexte. "
   ]
  },
  {
   "cell_type": "code",
   "execution_count": 21,
   "metadata": {},
   "outputs": [
    {
     "name": "stdout",
     "output_type": "stream",
     "text": [
      "Rappel de la colonne Age\n",
      " 0    22.0\n",
      "1     NaN\n",
      "2    35.0\n",
      "3    43.0\n",
      "4     NaN\n",
      "5    35.0\n",
      "6    45.0\n",
      "Name: Age, dtype: float64\n",
      "\n",
      "Moyenne 36.0  Median 35.0 \n",
      "Mode 0    35.0\n",
      "dtype: float64\n",
      "\n",
      " Remplacement des valeurs manquantes de Age par la moyenne\n",
      "\n",
      "Avant : \n",
      "\n"
     ]
    },
    {
     "data": {
      "text/plain": [
       "0    22.0\n",
       "1     NaN\n",
       "2    35.0\n",
       "3    43.0\n",
       "4     NaN\n",
       "5    35.0\n",
       "6    45.0\n",
       "Name: Age, dtype: float64"
      ]
     },
     "metadata": {},
     "output_type": "display_data"
    },
    {
     "name": "stdout",
     "output_type": "stream",
     "text": [
      "\n",
      "Après : \n",
      "\n"
     ]
    },
    {
     "data": {
      "text/plain": [
       "0    22.0\n",
       "1    36.0\n",
       "2    35.0\n",
       "3    43.0\n",
       "4    36.0\n",
       "5    35.0\n",
       "6    45.0\n",
       "Name: Age, dtype: float64"
      ]
     },
     "metadata": {},
     "output_type": "display_data"
    },
    {
     "name": "stdout",
     "output_type": "stream",
     "text": [
      "\n",
      " Remplacement des valeurs manquantes de Age par la valeur la plus fréquente sans utiliser le mode\n",
      "\n",
      "Valeur la plus fréquente \n",
      " 35.0  ( 2 )\n",
      "Avant : \n",
      "\n"
     ]
    },
    {
     "data": {
      "text/plain": [
       "0    22.0\n",
       "1     NaN\n",
       "2    35.0\n",
       "3    43.0\n",
       "4     NaN\n",
       "5    35.0\n",
       "6    45.0\n",
       "Name: Age, dtype: float64"
      ]
     },
     "metadata": {},
     "output_type": "display_data"
    },
    {
     "name": "stdout",
     "output_type": "stream",
     "text": [
      "\n",
      "Après : \n",
      "\n"
     ]
    },
    {
     "data": {
      "text/plain": [
       "0    22.0\n",
       "1    35.0\n",
       "2    35.0\n",
       "3    43.0\n",
       "4    35.0\n",
       "5    35.0\n",
       "6    45.0\n",
       "Name: Age, dtype: float64"
      ]
     },
     "metadata": {},
     "output_type": "display_data"
    },
    {
     "name": "stdout",
     "output_type": "stream",
     "text": [
      "\n",
      " Données catégorielles. Remplacement des valeurs manquantes de Dept par la valeur la plus fréquente\n",
      "\n",
      "Valeur la plus fréquente Commercial  ( 2 )\n",
      "Avant : \n",
      "\n"
     ]
    },
    {
     "data": {
      "text/plain": [
       "0             NaN\n",
       "1       Comptable\n",
       "2    Informatique\n",
       "3      Commercial\n",
       "4      Commercial\n",
       "5             NaN\n",
       "6             NaN\n",
       "Name: Dept, dtype: object"
      ]
     },
     "metadata": {},
     "output_type": "display_data"
    },
    {
     "name": "stdout",
     "output_type": "stream",
     "text": [
      "Après : \n",
      "\n"
     ]
    },
    {
     "data": {
      "text/plain": [
       "0      Commercial\n",
       "1       Comptable\n",
       "2    Informatique\n",
       "3      Commercial\n",
       "4      Commercial\n",
       "5      Commercial\n",
       "6      Commercial\n",
       "Name: Dept, dtype: object"
      ]
     },
     "metadata": {},
     "output_type": "display_data"
    }
   ],
   "source": [
    "import numpy as np\n",
    "print ('Rappel de la colonne Age\\n', df['Age'])\n",
    "\n",
    "print ('\\nMoyenne', df['Age'].mean(),\n",
    "       ' Median',df['Age'].median(), \n",
    "       '\\nMode', df['Age'].mode())\n",
    "\n",
    "print ('\\n Remplacement des valeurs manquantes de Age par la moyenne\\n')\n",
    "df_test = df.copy() #pour tester\n",
    "print ('Avant : \\n')\n",
    "display(df_test['Age'])\n",
    "df_test['Age']=df_test['Age'].replace(np.NaN,df_test['Age'].mean())\n",
    "print ('\\nAprès : \\n')\n",
    "display(df_test['Age'])     \n",
    "\n",
    "print ('\\n Remplacement des valeurs manquantes de Age par la valeur la plus fréquente sans utiliser le mode\\n')\n",
    "df_test = df.copy() #pour tester\n",
    "print ('Valeur la plus fréquente \\n',\n",
    "       df_test['Age'].value_counts().idxmax(),\n",
    "       ' (',df_test['Age'].value_counts().max(),')')\n",
    "newval=df_test['Age'].value_counts().idxmax()\n",
    "print ('Avant : \\n')\n",
    "display(df_test['Age'])\n",
    "df_test['Age']=df_test['Age'].replace(np.NaN,newval)\n",
    "print ('\\nAprès : \\n')\n",
    "display(df_test['Age'])     \n",
    "\n",
    "print ('\\n Données catégorielles. Remplacement des valeurs manquantes de Dept par la valeur la plus fréquente\\n')\n",
    "df_test = df.copy() #pour tester\n",
    "print ('Valeur la plus fréquente',df_test['Dept'].value_counts().idxmax(),\n",
    "      ' (',df_test['Dept'].value_counts().max(),')')\n",
    "newval=df_test['Dept'].value_counts().idxmax()\n",
    "print ('Avant : \\n')\n",
    "display(df_test['Dept'])\n",
    "df_test['Dept']=df_test['Dept'].replace(np.NaN,newval)\n",
    "print ('Après : \\n')\n",
    "display(df_test['Dept'])   \n"
   ]
  },
  {
   "cell_type": "markdown",
   "metadata": {},
   "source": [
    "Scikit learn propose aussi une fonction *SimpleImputer* qui permet de remplacer directement les valeurs. Elle s'applique sur un tableau et non pas un dataframe."
   ]
  },
  {
   "cell_type": "code",
   "execution_count": 22,
   "metadata": {},
   "outputs": [
    {
     "name": "stdout",
     "output_type": "stream",
     "text": [
      "\n",
      " Remplacement des valeurs manquantes de Age par la moyenne\n",
      "\n",
      "Avant : \n",
      "\n",
      "[[22.0]\n",
      " [nan]\n",
      " [35.0]\n",
      " [43.0]\n",
      " [nan]\n",
      " [35.0]\n",
      " [45.0]]\n",
      "\n",
      "Après : \n",
      "\n",
      "[[22.]\n",
      " [36.]\n",
      " [35.]\n",
      " [43.]\n",
      " [36.]\n",
      " [35.]\n",
      " [45.]]\n"
     ]
    }
   ],
   "source": [
    "import numpy as np\n",
    "from sklearn.impute import SimpleImputer\n",
    "array = df.values\n",
    "X = array[:,1:2] \n",
    "print ('\\n Remplacement des valeurs manquantes de Age par la moyenne\\n')\n",
    "print ('Avant : \\n')\n",
    "print (X)\n",
    "imputer = SimpleImputer(missing_values=np.nan, strategy = 'mean')\n",
    "imputer = imputer.fit(X)\n",
    "X = imputer.transform(X)\n",
    "print ('\\nAprès : \\n')\n",
    "print (X)"
   ]
  },
  {
   "cell_type": "markdown",
   "metadata": {},
   "source": [
    "**Remarques**  \n",
    "Cette approche est efficace quand le jeu de données est petit et que les valeurs peuvent facilement être remplacées.  \n",
    "Le fait de faire des approximations ajoute des biais dans les données."
   ]
  },
  {
   "cell_type": "markdown",
   "metadata": {},
   "source": [
    "<H2> Affecter une catégorie unique </H2>  \n",
    "\n",
    "Dans le cas de variables catégorielles, lorsqu'il n'est pas possible de pouvoir connaître la valeur, il est possible d'affecter une valeur similaire aux NaN.  \n",
    "L'avantage est de pouvoir considérer toutes ces données comme étant de la même classe et ainsi elles seront transformées de la même manière que les autres valeurs de l'attribut lors de l'étape d'encodage de données catégorielles.  \n",
    "L'inconvénient est d'avoir une nouvelle classe qui ne correspond pas à grand chose et qui peut donc entraîner des problèmes lors de la classification. "
   ]
  },
  {
   "cell_type": "code",
   "execution_count": 23,
   "metadata": {},
   "outputs": [
    {
     "name": "stdout",
     "output_type": "stream",
     "text": [
      "\n",
      " Remplacement des valeurs manquantes de Dept par une valeur commune\n",
      "\n",
      "Avant: \n",
      "\n"
     ]
    },
    {
     "data": {
      "text/plain": [
       "0             NaN\n",
       "1       Comptable\n",
       "2    Informatique\n",
       "3      Commercial\n",
       "4      Commercial\n",
       "5             NaN\n",
       "6             NaN\n",
       "Name: Dept, dtype: object"
      ]
     },
     "metadata": {},
     "output_type": "display_data"
    },
    {
     "name": "stdout",
     "output_type": "stream",
     "text": [
      "\n",
      "Après: \n",
      "\n"
     ]
    },
    {
     "data": {
      "text/plain": [
       "0         Inconnu\n",
       "1       Comptable\n",
       "2    Informatique\n",
       "3      Commercial\n",
       "4      Commercial\n",
       "5         Inconnu\n",
       "6         Inconnu\n",
       "Name: Dept, dtype: object"
      ]
     },
     "metadata": {},
     "output_type": "display_data"
    }
   ],
   "source": [
    "\n",
    "print ('\\n Remplacement des valeurs manquantes de Dept par une valeur commune\\n')\n",
    "df_test = df.copy() #pour tester\n",
    "print ('Avant: \\n')\n",
    "display(df_test['Dept'])\n",
    "df_test['Dept']=df_test['Dept'].fillna(\"Inconnu\")\n",
    "print ('\\nAprès: \\n')\n",
    "display(df_test['Dept'])                "
   ]
  },
  {
   "cell_type": "markdown",
   "metadata": {},
   "source": [
    "<H2> Prédire les valeurs manquantes </H2>  \n",
    "\n",
    "Le principe est d'utiliser les autres attributs pour appliquer un algorithme d'apprentissage en considérant que la valeur à prédire est la colonne qui contient des NaN.  \n",
    "\n",
    "L'exemple suivant illustre comment utiliser KNN pour prédire des valeurs."
   ]
  },
  {
   "cell_type": "code",
   "execution_count": 24,
   "metadata": {},
   "outputs": [
    {
     "name": "stdout",
     "output_type": "stream",
     "text": [
      "Creation d'un jeu de données aléatoire de 100 lignes\n",
      "(100, 4)\n"
     ]
    },
    {
     "data": {
      "text/html": [
       "<div>\n",
       "<style scoped>\n",
       "    .dataframe tbody tr th:only-of-type {\n",
       "        vertical-align: middle;\n",
       "    }\n",
       "\n",
       "    .dataframe tbody tr th {\n",
       "        vertical-align: top;\n",
       "    }\n",
       "\n",
       "    .dataframe thead th {\n",
       "        text-align: right;\n",
       "    }\n",
       "</style>\n",
       "<table border=\"1\" class=\"dataframe\">\n",
       "  <thead>\n",
       "    <tr style=\"text-align: right;\">\n",
       "      <th></th>\n",
       "      <th>Age</th>\n",
       "      <th>Sal</th>\n",
       "      <th>Prime</th>\n",
       "      <th>Dept</th>\n",
       "    </tr>\n",
       "  </thead>\n",
       "  <tbody>\n",
       "    <tr>\n",
       "      <th>0</th>\n",
       "      <td>32</td>\n",
       "      <td>0</td>\n",
       "      <td>1</td>\n",
       "      <td>0</td>\n",
       "    </tr>\n",
       "    <tr>\n",
       "      <th>1</th>\n",
       "      <td>30</td>\n",
       "      <td>2000</td>\n",
       "      <td>1</td>\n",
       "      <td>0</td>\n",
       "    </tr>\n",
       "    <tr>\n",
       "      <th>2</th>\n",
       "      <td>30</td>\n",
       "      <td>2000</td>\n",
       "      <td>0</td>\n",
       "      <td>1</td>\n",
       "    </tr>\n",
       "    <tr>\n",
       "      <th>3</th>\n",
       "      <td>34</td>\n",
       "      <td>1000</td>\n",
       "      <td>1</td>\n",
       "      <td>1</td>\n",
       "    </tr>\n",
       "    <tr>\n",
       "      <th>4</th>\n",
       "      <td>33</td>\n",
       "      <td>0</td>\n",
       "      <td>0</td>\n",
       "      <td>1</td>\n",
       "    </tr>\n",
       "  </tbody>\n",
       "</table>\n",
       "</div>"
      ],
      "text/plain": [
       "   Age   Sal  Prime  Dept\n",
       "0   32     0      1     0\n",
       "1   30  2000      1     0\n",
       "2   30  2000      0     1\n",
       "3   34  1000      1     1\n",
       "4   33     0      0     1"
      ]
     },
     "metadata": {},
     "output_type": "display_data"
    },
    {
     "name": "stdout",
     "output_type": "stream",
     "text": [
      "Sélection de 3% du jeu de données pour mettre NaN dans les Dept\n"
     ]
    },
    {
     "data": {
      "text/html": [
       "<div>\n",
       "<style scoped>\n",
       "    .dataframe tbody tr th:only-of-type {\n",
       "        vertical-align: middle;\n",
       "    }\n",
       "\n",
       "    .dataframe tbody tr th {\n",
       "        vertical-align: top;\n",
       "    }\n",
       "\n",
       "    .dataframe thead th {\n",
       "        text-align: right;\n",
       "    }\n",
       "</style>\n",
       "<table border=\"1\" class=\"dataframe\">\n",
       "  <thead>\n",
       "    <tr style=\"text-align: right;\">\n",
       "      <th></th>\n",
       "      <th>Age</th>\n",
       "      <th>Sal</th>\n",
       "      <th>Prime</th>\n",
       "      <th>Dept</th>\n",
       "    </tr>\n",
       "  </thead>\n",
       "  <tbody>\n",
       "    <tr>\n",
       "      <th>14</th>\n",
       "      <td>33</td>\n",
       "      <td>2000</td>\n",
       "      <td>0</td>\n",
       "      <td>2</td>\n",
       "    </tr>\n",
       "    <tr>\n",
       "      <th>9</th>\n",
       "      <td>32</td>\n",
       "      <td>2000</td>\n",
       "      <td>1</td>\n",
       "      <td>1</td>\n",
       "    </tr>\n",
       "    <tr>\n",
       "      <th>65</th>\n",
       "      <td>30</td>\n",
       "      <td>2000</td>\n",
       "      <td>0</td>\n",
       "      <td>1</td>\n",
       "    </tr>\n",
       "  </tbody>\n",
       "</table>\n",
       "</div>"
      ],
      "text/plain": [
       "    Age   Sal  Prime  Dept\n",
       "14   33  2000      0     2\n",
       "9    32  2000      1     1\n",
       "65   30  2000      0     1"
      ]
     },
     "metadata": {},
     "output_type": "display_data"
    },
    {
     "name": "stdout",
     "output_type": "stream",
     "text": [
      "Remplacement par NaN pour l'échantillon\n"
     ]
    }
   ],
   "source": [
    "import numpy as np\n",
    "\n",
    "print (\"Creation d'un jeu de données aléatoire de 100 lignes\")\n",
    "df_test = pd.DataFrame(\n",
    "    {'Age': np.random.randint(30, 35, size=100), \n",
    "     'Sal': np.random.randint(3, size=100)*1000,\n",
    "     'Prime':np.random.randint(2, size=100),\n",
    "     'Dept': np.random.randint(3,size=100)},columns=['Age','Sal','Prime','Dept'])\n",
    "     \n",
    "print (df_test.shape)\n",
    "display(df_test.head(5))\n",
    "array = df_test\n",
    "\n",
    "print ('Sélection de 3% du jeu de données pour mettre NaN dans les Dept')\n",
    "echantillon = df_test.sample(frac=0.03)\n",
    "display(echantillon)\n",
    "\n",
    "print(\"Remplacement par NaN pour l'échantillon\")\n",
    "index = echantillon.index.values\n",
    "for ind in index:\n",
    "    echantillon.at[ind, 'Dept']=-1\n",
    "    echantillon=echantillon.replace(-1,np.nan)\n",
    "    df_test.at[ind, 'Dept']=-1\n",
    "    df_test=df_test.replace(-1,np.nan)\n",
    "\n",
    "\n"
   ]
  },
  {
   "cell_type": "code",
   "execution_count": 25,
   "metadata": {},
   "outputs": [
    {
     "name": "stdout",
     "output_type": "stream",
     "text": [
      "Récupération des lignes sans NAN\n",
      "Creation d'un dataframe sans NaN\n",
      "Apprentissage sur le dataframe sans les nan\n",
      "\n",
      " accuracy : 0.5753424657534246 \n",
      "\n",
      "Remplacement des valeurs NaN par les valeurs prédites\n"
     ]
    },
    {
     "data": {
      "text/html": [
       "<div>\n",
       "<style scoped>\n",
       "    .dataframe tbody tr th:only-of-type {\n",
       "        vertical-align: middle;\n",
       "    }\n",
       "\n",
       "    .dataframe tbody tr th {\n",
       "        vertical-align: top;\n",
       "    }\n",
       "\n",
       "    .dataframe thead th {\n",
       "        text-align: right;\n",
       "    }\n",
       "</style>\n",
       "<table border=\"1\" class=\"dataframe\">\n",
       "  <thead>\n",
       "    <tr style=\"text-align: right;\">\n",
       "      <th></th>\n",
       "      <th>Age</th>\n",
       "      <th>Sal</th>\n",
       "      <th>Prime</th>\n",
       "      <th>Dept</th>\n",
       "    </tr>\n",
       "  </thead>\n",
       "  <tbody>\n",
       "    <tr>\n",
       "      <th>9</th>\n",
       "      <td>32</td>\n",
       "      <td>2000</td>\n",
       "      <td>1</td>\n",
       "      <td>0.0</td>\n",
       "    </tr>\n",
       "    <tr>\n",
       "      <th>14</th>\n",
       "      <td>33</td>\n",
       "      <td>2000</td>\n",
       "      <td>0</td>\n",
       "      <td>0.0</td>\n",
       "    </tr>\n",
       "    <tr>\n",
       "      <th>65</th>\n",
       "      <td>30</td>\n",
       "      <td>2000</td>\n",
       "      <td>0</td>\n",
       "      <td>0.0</td>\n",
       "    </tr>\n",
       "  </tbody>\n",
       "</table>\n",
       "</div>"
      ],
      "text/plain": [
       "    Age   Sal  Prime  Dept\n",
       "9    32  2000      1   0.0\n",
       "14   33  2000      0   0.0\n",
       "65   30  2000      0   0.0"
      ]
     },
     "metadata": {},
     "output_type": "display_data"
    }
   ],
   "source": [
    "from sklearn.model_selection import train_test_split \n",
    "from sklearn.metrics import accuracy_score\n",
    "from sklearn.neighbors import KNeighborsClassifier\n",
    "\n",
    "print ('Récupération des lignes sans NAN')\n",
    "sans_nan = df_test[['Sal','Prime','Age','Dept']].notnull().all(axis=1)\n",
    "print (\"Creation d'un dataframe sans NaN\")\n",
    "df_sansnan = df_test[sans_nan]\n",
    "\n",
    "print (\"Apprentissage sur le dataframe sans les nan\")\n",
    "array = df_sansnan.values\n",
    "X = array[:,0:3]\n",
    "\n",
    "y= array[:,3]\n",
    "\n",
    "validation_size=0.25 #30% du jeu de données pour le test\n",
    "testsize= 1-validation_size\n",
    "seed=2\n",
    "\n",
    "X_train, X_test, y_train, y_test = train_test_split(X, y, \n",
    "                                                    train_size=validation_size, \n",
    "                                                    random_state=seed,\n",
    "                                                    test_size=testsize)\n",
    "\n",
    "\n",
    "clf=KNeighborsClassifier(n_neighbors=4)\n",
    "clf.fit(X, y)\n",
    "\n",
    "result = clf.predict(X_test)\n",
    "print('\\n accuracy :', accuracy_score(result, y_test),'\\n')\n",
    "\n",
    "#recuperation dans df_avecnan de toutes les lignes qui ont un nan (noter la negation)\n",
    "print ('Remplacement des valeurs NaN par les valeurs prédites')\n",
    "df_avecnan = df_test.loc[~sans_nan].copy() \n",
    "df_avecnan['Dept'] = clf.predict(df_avecnan[['Sal','Prime','Age']])\n",
    "display(df_avecnan)"
   ]
  }
 ],
 "metadata": {
  "kernelspec": {
   "display_name": "Python 3",
   "language": "python",
   "name": "python3"
  },
  "language_info": {
   "codemirror_mode": {
    "name": "ipython",
    "version": 3
   },
   "file_extension": ".py",
   "mimetype": "text/x-python",
   "name": "python",
   "nbconvert_exporter": "python",
   "pygments_lexer": "ipython3",
   "version": "3.6.4"
  },
  "latex_metadata": {
   "affiliation": "Montpellier University",
   "author": "P. Poncelet",
   "title": "Ingenierie des donnees"
  }
 },
 "nbformat": 4,
 "nbformat_minor": 2
}
