{
 "cells": [
  {
   "cell_type": "code",
   "execution_count": 65,
   "metadata": {},
   "outputs": [],
   "source": [
    "import string as str\n",
    "import re"
   ]
  },
  {
   "cell_type": "markdown",
   "metadata": {},
   "source": [
    "# To remove all punctuations in a string"
   ]
  },
  {
   "cell_type": "code",
   "execution_count": 101,
   "metadata": {},
   "outputs": [],
   "source": [
    "def removePunctuation(string):\n",
    "    result = re.sub('[«»!\"#$%&\\'()*+,-./:;<=>?@[\\\\]^_`{|}~]', '', string)\n",
    "    return result"
   ]
  },
  {
   "cell_type": "code",
   "execution_count": 102,
   "metadata": {},
   "outputs": [
    {
     "name": "stdout",
     "output_type": "stream",
     "text": [
      "This is an example of string with punctuation\n"
     ]
    }
   ],
   "source": [
    "st = \"This &is [an] example? {of} string. with.? punctuation!!!!\"\n",
    "print(removePunctuation(st))"
   ]
  },
  {
   "cell_type": "markdown",
   "metadata": {},
   "source": [
    "Second version of remove punctuation"
   ]
  },
  {
   "cell_type": "code",
   "execution_count": 53,
   "metadata": {},
   "outputs": [
    {
     "name": "stdout",
     "output_type": "stream",
     "text": [
      "This is an example of string with punctuation\n"
     ]
    }
   ],
   "source": [
    "input_str = \"This &is [an] example? {of} string. with.? punctuation!!!!\" # Sample string\n",
    "intab = str.punctuation.encode()\n",
    "outab = \" \"*32\n",
    "outab = outab.encode()\n",
    "transtab = bytes.maketrans(intab,outab)\n",
    "result = input_str.translate(transtab)\n",
    "result_without_space = result.split()\n",
    "result = \" \".join(result_without_space)\n",
    "print(result)"
   ]
  },
  {
   "cell_type": "code",
   "execution_count": 48,
   "metadata": {},
   "outputs": [
    {
     "name": "stdout",
     "output_type": "stream",
     "text": [
      "b'th3s 3s str3ng 2x1mpl2....w4w!!!'\n"
     ]
    }
   ],
   "source": [
    "intab = b\"aeiou\"\n",
    "outtab = b\"12345\"\n",
    "trantab = bytes.maketrans(intab, outtab)\n",
    "strg = b\"this is string example....wow!!!\";\n",
    "print(strg.translate(trantab));"
   ]
  },
  {
   "cell_type": "code",
   "execution_count": 94,
   "metadata": {},
   "outputs": [
    {
     "name": "stdout",
     "output_type": "stream",
     "text": [
      "b'naive cafe!)'\n"
     ]
    }
   ],
   "source": [
    "# -*- coding: utf-8 -*-\n",
    " \n",
    "import unicodedata\n",
    "\n",
    "\"\"\" Normalise (normalize) unicode data in Python to remove umlauts, accents etc. \"\"\"\n",
    "\n",
    "data = u'naïve café!)'\n",
    "normal = unicodedata.normalize('NFKD', data).encode('ASCII', 'ignore')\n",
    "print (normal)"
   ]
  },
  {
   "cell_type": "code",
   "execution_count": 95,
   "metadata": {},
   "outputs": [
    {
     "data": {
      "text/plain": [
       "'!\"#$%&\\'()*+,-./:;<=>?@[\\\\]^_`{|}~'"
      ]
     },
     "execution_count": 95,
     "metadata": {},
     "output_type": "execute_result"
    }
   ],
   "source": [
    "str.punctuation"
   ]
  },
  {
   "cell_type": "code",
   "execution_count": 93,
   "metadata": {
    "scrolled": true
   },
   "outputs": [
    {
     "name": "stdout",
     "output_type": "stream",
     "text": [
      "0: <p>\n",
      "This is a paragraph.\n",
      "It has multiple lines.\n",
      "</p>\n",
      "1: <p>\n",
      "2: This is a paragraph.\n",
      "It has multiple lines.\n",
      "3: </p>\n"
     ]
    }
   ],
   "source": [
    "paragraph = \\\n",
    "'''\n",
    "<p>\n",
    "This is a paragraph.\n",
    "It has multiple lines.\n",
    "</p>\n",
    "'''\n",
    "match = re.search(r'(<p>)(.*)(</p>)', paragraph, re.DOTALL)\n",
    "print(\"0:\",match.group(0))\n",
    "print(\"1:\",match.group(1))\n",
    "print(\"2:\",match.group(2).strip())\n",
    "print(\"3:\",match.group(3))"
   ]
  },
  {
   "cell_type": "code",
   "execution_count": null,
   "metadata": {},
   "outputs": [],
   "source": []
  }
 ],
 "metadata": {
  "kernelspec": {
   "display_name": "(terEnv)",
   "language": "python",
   "name": "terenv"
  },
  "language_info": {
   "codemirror_mode": {
    "name": "ipython",
    "version": 3
   },
   "file_extension": ".py",
   "mimetype": "text/x-python",
   "name": "python",
   "nbconvert_exporter": "python",
   "pygments_lexer": "ipython3",
   "version": "3.7.6"
  }
 },
 "nbformat": 4,
 "nbformat_minor": 4
}
