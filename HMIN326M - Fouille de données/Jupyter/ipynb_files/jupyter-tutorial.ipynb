{
 "cells": [
  {
   "cell_type": "markdown",
   "metadata": {},
   "source": [
    "# Jupyter tutorial:"
   ]
  },
  {
   "cell_type": "code",
   "execution_count": null,
   "metadata": {},
   "outputs": [],
   "source": [
    "import pandas as pd"
   ]
  },
  {
   "cell_type": "code",
   "execution_count": null,
   "metadata": {},
   "outputs": [],
   "source": [
    "basket = [['Biscuit', 'Creme', 'Couches', \n",
    "            'Pain', 'Confiture'],\n",
    "           ['Oeufs', 'Salade', 'Pain'],\n",
    "           ['Pain', 'Biscuit', 'Couches', \n",
    "            'Lait','Camembert','Biere','Poudre de cacao'],\n",
    "           ['Biere', 'Lait', 'Creme', \n",
    "            'Pain', 'Salade','Couches','Poudre de cacao'],\n",
    "           ['Camembert', 'Confiture', \n",
    "            'Poudre de cacao', 'Lait'],\n",
    "           ['Lait','Biere','Perrier',\n",
    "            'Oeufs','Couches'],\n",
    "           ['Biscuit', 'Creme', 'Oeufs', \n",
    "            'Pain', 'Couches','Lait',\n",
    "            'Poudre de cacao', 'Confiture'],\n",
    "           ['Camembert','Biere','Perrier',\n",
    "            'Oeufs','Salade','Confiture','Couches'],\n",
    "           ['Salade','Confiture','Pain','Oeufs',\n",
    "            'Creme','Perrier','Biscuit']]\n"
   ]
  },
  {
   "cell_type": "code",
   "execution_count": null,
   "metadata": {},
   "outputs": [],
   "source": [
    "frame = pd.D"
   ]
  }
 ],
 "metadata": {
  "kernelspec": {
   "display_name": "Python 3",
   "language": "python",
   "name": "python3"
  },
  "language_info": {
   "codemirror_mode": {
    "name": "ipython",
    "version": 3
   },
   "file_extension": ".py",
   "mimetype": "text/x-python",
   "name": "python",
   "nbconvert_exporter": "python",
   "pygments_lexer": "ipython3",
   "version": "3.7.6"
  }
 },
 "nbformat": 4,
 "nbformat_minor": 4
}
