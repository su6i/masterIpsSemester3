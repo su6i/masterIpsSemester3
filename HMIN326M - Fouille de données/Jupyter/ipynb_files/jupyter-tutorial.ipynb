{
 "cells": [
  {
   "cell_type": "markdown",
   "metadata": {},
   "source": [
    "# Jupyter tutorial:"
   ]
  },
  {
   "cell_type": "markdown",
   "metadata": {},
   "source": [
    "Numbering and indentation:\n",
    "\n",
    "1. item\n",
    "    1. 1.item 2\n",
    "    1. item\n",
    "    1. item 2\n",
    "\n",
    "1. item\n",
    "\n",
    "    1. item 2  \n",
    "> This is indented text\n",
    "        1. item\n",
    "        1. item 2\n",
    "1. item\n",
    "\n",
    "1. item\n",
    "\n",
    "1. item\n",
    "\n",
    "1. item\n",
    "\n",
    "1. item\n",
    "\n",
    "1. item\n",
    "\n"
   ]
  },
  {
   "cell_type": "markdown",
   "metadata": {},
   "source": [
    "Alert box:\n",
    "\n",
    "<div class=\"alert alert-block alert-info\">\n",
    "    <b>Exemple :</b> utilisation pour ajouter des informations.\n",
    "</div>\n",
    "\n",
    "<div class=\"alert alert-block alert-warning\">\n",
    "<b>Exemple :</b> Utilisation d'une formule qui peut engendrer des erreurs.\n",
    "</div>\n",
    "\n",
    "<div class=\"alert alert-block alert-success\">\n",
    "<b>Exemple :</b> Lorsque les résultats sont obtenus.\n",
    "</div>\n",
    "\n",
    "<div class=\"alert alert-block alert-danger\">\n",
    "<b>Exemple :</b> Prévenir qu'une action peut engendrer la perte de données.\n",
    "</div>"
   ]
  },
  {
   "cell_type": "markdown",
   "metadata": {},
   "source": [
    "Horizontal line\n",
    "***"
   ]
  },
  {
   "cell_type": "code",
   "execution_count": 4,
   "metadata": {},
   "outputs": [
    {
     "name": "stdout",
     "output_type": "stream",
     "text": [
      "README.md               jupyter-tutorial.ipynb\r\n",
      "conda.txt               jupyter.txt\r\n"
     ]
    }
   ],
   "source": [
    "ls\n"
   ]
  },
  {
   "cell_type": "code",
   "execution_count": 1,
   "metadata": {},
   "outputs": [],
   "source": [
    "mkdir amir\n"
   ]
  },
  {
   "cell_type": "code",
   "execution_count": 3,
   "metadata": {},
   "outputs": [
    {
     "name": "stdout",
     "output_type": "stream",
     "text": [
      "total 40\r\n",
      "-rw-r--r--   1 su6i  staff   1.8K Mar 15  2020 .gitignore\r\n",
      "-rw-r--r--   1 su6i  staff   235B Mar 15  2020 jupyter.txt\r\n",
      "-rw-r--r--   1 su6i  staff   197B Mar 15  2020 README.md\r\n",
      "-rw-r--r--   1 su6i  staff   1.1K Mar 15  2020 conda.txt\r\n",
      "drwxr-xr-x  15 su6i  staff   480B Mar 15  2020 \u001b[1m\u001b[36m.git\u001b[m\u001b[m/\r\n",
      "drwxr-xr-x  15 su6i  staff   480B Oct 16 01:28 \u001b[1m\u001b[36m..\u001b[m\u001b[m/\r\n",
      "drwxr-xr-x   3 su6i  staff    96B Oct 21 14:01 \u001b[1m\u001b[36m.ipynb_checkpoints\u001b[m\u001b[m/\r\n",
      "-rw-r--r--   1 su6i  staff   2.1K Oct 21 14:05 jupyter-tutorial.ipynb\r\n",
      "drwxr-xr-x   2 su6i  staff    64B Oct 21 16:52 \u001b[1m\u001b[36mamir\u001b[m\u001b[m/\r\n",
      "drwxr-xr-x  10 su6i  staff   320B Oct 21 16:52 \u001b[1m\u001b[36m.\u001b[m\u001b[m/\r\n"
     ]
    }
   ],
   "source": [
    "ls -ltrha\n"
   ]
  },
  {
   "cell_type": "markdown",
   "metadata": {},
   "source": [
    "### Amir"
   ]
  },
  {
   "cell_type": "markdown",
   "metadata": {},
   "source": [
    "## Amir\n"
   ]
  },
  {
   "cell_type": "markdown",
   "metadata": {},
   "source": [
    "*Amir*"
   ]
  },
  {
   "cell_type": "markdown",
   "metadata": {},
   "source": [
    "**Amir**"
   ]
  },
  {
   "cell_type": "code",
   "execution_count": 1,
   "metadata": {},
   "outputs": [
    {
     "name": "stdout",
     "output_type": "stream",
     "text": [
      "12\n"
     ]
    }
   ],
   "source": [
    "a = 12 ; \n",
    "print(a);"
   ]
  },
  {
   "cell_type": "code",
   "execution_count": 3,
   "metadata": {},
   "outputs": [
    {
     "name": "stdout",
     "output_type": "stream",
     "text": [
      "on peut ecrire du code en clair\n"
     ]
    }
   ],
   "source": [
    "a = \"on peut ecrire du code en clair\" ;\n",
    "print(a);"
   ]
  },
  {
   "cell_type": "markdown",
   "metadata": {},
   "source": [
    "<div class=\"alert alert-block alert-info\">\n",
    "<b>Exemple :</b> Utilisation pour ajouter des informations .\n",
    "    </div>"
   ]
  },
  {
   "cell_type": "markdown",
   "metadata": {},
   "source": [
    "<li>ceci est un test</li>\n"
   ]
  },
  {
   "cell_type": "markdown",
   "metadata": {},
   "source": [
    "# ceci est un premier titre \n",
    "## ceci est une deuxieme titre \n"
   ]
  },
  {
   "cell_type": "code",
   "execution_count": 2,
   "metadata": {},
   "outputs": [],
   "source": []
  }
 ],
 "metadata": {
  "kernelspec": {
   "display_name": "Python 3",
   "language": "python",
   "name": "python3"
  },
  "language_info": {
   "codemirror_mode": {
    "name": "ipython",
    "version": 3
   },
   "file_extension": ".py",
   "mimetype": "text/x-python",
   "name": "python",
   "nbconvert_exporter": "python",
   "pygments_lexer": "ipython3",
   "version": "3.7.6"
  }
 },
 "nbformat": 4,
 "nbformat_minor": 4
}
