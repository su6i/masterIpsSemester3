{
 "cells": [
  {
   "cell_type": "markdown",
   "metadata": {},
   "source": [
    "# Running different algorithms for sequential patterns \n",
    "* **Aprioriall**\n",
    "* **PrefixSpan (Python and Java implementations)**"
   ]
  },
  {
   "cell_type": "markdown",
   "metadata": {},
   "source": [
    "## The Aprioriall algorithm"
   ]
  },
  {
   "cell_type": "code",
   "execution_count": null,
   "metadata": {
    "ExecuteTime": {
     "end_time": "2020-09-07T17:36:23.935348Z",
     "start_time": "2020-09-07T17:36:23.925430Z"
    }
   },
   "outputs": [],
   "source": [
    "import aprioriall "
   ]
  },
  {
   "cell_type": "markdown",
   "metadata": {},
   "source": [
    "The format of the dataset is:\n",
    "* An event is a list of strings.\n",
    "* A sequence is a list of events.\n",
    "* A dataset is a list of sequences.\n",
    "\n",
    "Example:<BR>\n",
    "\n",
    "<pre>\n",
    "dataset =  [\n",
    "      [[\"a\"], [\"a\", \"b\", \"c\"], [\"a\", \"c\"], [\"c\"]],\n",
    "      [[\"a\"], [\"c\"], [\"b\", \"c\"]],\n",
    "      [[\"a\", \"b\"], [\"d\"], [\"c\"], [\"b\"], [\"c\"]],\n",
    "      [[\"a\"], [\"c\"], [\"b\"], [\"c\"]]\n",
    "]      \n",
    "</pre>\n"
   ]
  },
  {
   "cell_type": "code",
   "execution_count": null,
   "metadata": {
    "ExecuteTime": {
     "end_time": "2020-09-07T17:36:24.008354Z",
     "start_time": "2020-09-07T17:36:23.943219Z"
    }
   },
   "outputs": [],
   "source": [
    "dataset =  [\n",
    "    [[\"a\"], [\"a\", \"b\", \"c\"], [\"a\", \"c\"], [\"c\"]],\n",
    "    [[\"a\"], [\"c\"], [\"b\", \"c\"]],\n",
    "    [[\"a\", \"b\"], [\"d\"], [\"c\"], [\"b\"], [\"c\"]],\n",
    "    [[\"a\"], [\"a\", \"b\", \"c\"], [\"a\", \"c\"], [\"c\"]],\n",
    "    [[\"a\"], [\"c\"], [\"b\", \"c\"]],\n",
    "    [[\"a\", \"b\"], [\"d\"], [\"c\"], [\"b\"], [\"c\"]],\n",
    "    [[\"a\"], [\"a\", \"b\", \"c\"], [\"a\", \"c\"], [\"c\"]],\n",
    "    [[\"a\"], [\"c\"], [\"b\", \"c\"]],\n",
    "    [[\"a\", \"b\"], [\"d\"], [\"c\"], [\"b\"], [\"c\"]],\n",
    "    [[\"a\"], [\"a\", \"b\", \"c\"], [\"a\", \"c\"], [\"c\"]],\n",
    "    [[\"a\"], [\"c\"], [\"b\", \"c\"]],\n",
    "    [[\"a\", \"b\"], [\"d\"], [\"c\"], [\"b\"], [\"c\"]],\n",
    "    [[\"a\"], [\"a\", \"b\", \"c\"], [\"a\", \"c\"], [\"c\"]],\n",
    "    [[\"a\"], [\"c\"], [\"b\", \"c\"]],\n",
    "    [[\"a\", \"b\"], [\"d\"], [\"c\"], [\"b\"], [\"c\"]],\n",
    "    [[\"a\"], [\"a\", \"b\", \"c\"], [\"a\", \"c\"], [\"c\"]],\n",
    "    [[\"a\"], [\"c\"], [\"b\", \"c\"]],\n",
    "    [[\"a\", \"b\"], [\"d\"], [\"c\"], [\"b\"], [\"c\"]],\n",
    "    [[\"a\"], [\"a\", \"b\", \"c\"], [\"a\", \"c\"], [\"c\"]],\n",
    "    [[\"a\"], [\"c\"], [\"b\", \"c\"]],\n",
    "    [[\"a\", \"b\"], [\"d\"], [\"c\"], [\"b\"], [\"c\"]],      \n",
    "    [[\"a\"], [\"c\"], [\"b\"], [\"c\"]]\n",
    "]"
   ]
  },
  {
   "cell_type": "code",
   "execution_count": null,
   "metadata": {
    "ExecuteTime": {
     "end_time": "2020-09-07T17:36:24.038198Z",
     "start_time": "2020-09-07T17:36:24.012242Z"
    }
   },
   "outputs": [],
   "source": [
    "dataset =  [\n",
    "    [[\"R1\"], [\"G2\", \"R1\"], [\"R1\"]],\n",
    "    [[\"e\"], [\"a\"], [\"e\"], [\"b\",\"c\"], [\"f\"], [\"d\"]],\n",
    "    [[\"h\"], [\"h\", \"i\"], [\"j\"]],\n",
    "    [[\"h\"], [\"i\"], [\"j\"], [\"k\"]]\n",
    "]\n",
    "    \n",
    "result = aprioriall.apriori(dataset, 2, verbose=False)\n",
    "aprioriall.filterMaximal(result)\n",
    "print(result)\n",
    "result = aprioriall.apriori(dataset, 2, verbose=False)\n",
    "aprioriall.filterClosed(result)\n",
    "print(result)"
   ]
  },
  {
   "cell_type": "markdown",
   "metadata": {},
   "source": [
    "Running aprioriall: aprioriall.apriori (nameofthedataset, support=number of minimal occurrences, verbose={false/true})"
   ]
  },
  {
   "cell_type": "code",
   "execution_count": null,
   "metadata": {
    "ExecuteTime": {
     "end_time": "2020-09-07T17:36:24.078365Z",
     "start_time": "2020-09-07T17:36:24.044543Z"
    }
   },
   "outputs": [],
   "source": [
    "aprioriall.apriori(dataset, 2, verbose=False)"
   ]
  },
  {
   "cell_type": "markdown",
   "metadata": {},
   "source": [
    "Get the maximal sequential patterns"
   ]
  },
  {
   "cell_type": "code",
   "execution_count": null,
   "metadata": {
    "ExecuteTime": {
     "end_time": "2020-09-07T17:36:24.108106Z",
     "start_time": "2020-09-07T17:36:24.084018Z"
    }
   },
   "outputs": [],
   "source": [
    "result = aprioriall.apriori(dataset, 2, verbose=False)\n",
    "aprioriall.filterMaximal(result)\n",
    "print(result)"
   ]
  },
  {
   "cell_type": "markdown",
   "metadata": {},
   "source": [
    "Get the closed sequential patterns"
   ]
  },
  {
   "cell_type": "code",
   "execution_count": null,
   "metadata": {
    "ExecuteTime": {
     "end_time": "2020-09-07T17:36:24.130319Z",
     "start_time": "2020-09-07T17:36:24.113434Z"
    }
   },
   "outputs": [],
   "source": [
    "result = aprioriall.apriori(dataset, 2, verbose=False)\n",
    "aprioriall.filterClosed(result)\n",
    "print(result)"
   ]
  },
  {
   "cell_type": "markdown",
   "metadata": {},
   "source": [
    "## The PrefixSpan algorithm"
   ]
  },
  {
   "cell_type": "code",
   "execution_count": null,
   "metadata": {
    "ExecuteTime": {
     "end_time": "2020-09-07T17:36:24.144942Z",
     "start_time": "2020-09-07T17:36:24.134577Z"
    }
   },
   "outputs": [],
   "source": [
    "import prefixspan"
   ]
  },
  {
   "cell_type": "markdown",
   "metadata": {},
   "source": [
    "Running aprioriall: prefixspan.prefixSpan(nameofthedataset, support=number of minimal occurrences)"
   ]
  },
  {
   "cell_type": "code",
   "execution_count": null,
   "metadata": {
    "ExecuteTime": {
     "end_time": "2020-09-07T17:36:24.162774Z",
     "start_time": "2020-09-07T17:36:24.148815Z"
    }
   },
   "outputs": [],
   "source": [
    "#(A) (B,C) (D)\n",
    "#(E) (A) (E) (B,C) (F) (D)\n",
    "#(H)(H,I)(J)\n",
    "#(H)(I)(J)(K)\n",
    "dataset =  [\n",
    "    [[\"1\"], [\"2\", \"3\"], [\"4\"]],\n",
    "    [[\"5\"], [\"1\"], [\"5\"], [\"2\",\"3\"], [\"7\"], [\"2\"]],\n",
    "    [[\"8\"], [\"9\", \"10\"], [\"5\"]],\n",
    "    [[\"8\"], [\"5\"], [\"9\"], [\"6\"]]\n",
    "]"
   ]
  },
  {
   "cell_type": "code",
   "execution_count": null,
   "metadata": {
    "ExecuteTime": {
     "end_time": "2020-09-07T17:36:24.186594Z",
     "start_time": "2020-09-07T17:36:24.166701Z"
    }
   },
   "outputs": [],
   "source": [
    "prefixspan.prefixSpan(dataset, 2)"
   ]
  },
  {
   "cell_type": "markdown",
   "metadata": {},
   "source": [
    "Get the maximal sequential patterns"
   ]
  },
  {
   "cell_type": "code",
   "execution_count": null,
   "metadata": {
    "ExecuteTime": {
     "end_time": "2020-09-07T17:36:24.204354Z",
     "start_time": "2020-09-07T17:36:24.191378Z"
    }
   },
   "outputs": [],
   "source": [
    "result = prefixspan.prefixSpan (dataset, 2)\n",
    "prefixspan.filterMaximal(result)\n",
    "print(result)"
   ]
  },
  {
   "cell_type": "markdown",
   "metadata": {},
   "source": [
    "Get the closed sequential patterns"
   ]
  },
  {
   "cell_type": "code",
   "execution_count": null,
   "metadata": {
    "ExecuteTime": {
     "end_time": "2020-09-07T17:36:24.236584Z",
     "start_time": "2020-09-07T17:36:24.207477Z"
    }
   },
   "outputs": [],
   "source": [
    "result = prefixspan.prefixSpan (dataset, 2)\n",
    "prefixspan.filterClosed(result)\n",
    "print(result)"
   ]
  },
  {
   "cell_type": "markdown",
   "metadata": {},
   "source": [
    "## Comparing execution times"
   ]
  },
  {
   "cell_type": "code",
   "execution_count": null,
   "metadata": {
    "ExecuteTime": {
     "end_time": "2020-09-07T17:36:24.267425Z",
     "start_time": "2020-09-07T17:36:24.247187Z"
    }
   },
   "outputs": [],
   "source": [
    "print ('Time for Aprioriall\\n')\n",
    "%time aprioriall.apriori(dataset, 2, verbose=False)\n",
    "print ('\\n\\nTime for prefixspan\\n')\n",
    "%time prefixspan.prefixSpan (dataset, 2)"
   ]
  },
  {
   "cell_type": "markdown",
   "metadata": {},
   "source": [
    "## Dealing with real datasets "
   ]
  },
  {
   "cell_type": "markdown",
   "metadata": {},
   "source": [
    "Many datasets are available in the following URL to deal with sequential patterns. They are in a specific format called SPMF :<BR>\n",
    "    http://www.philippe-fournier-viger.com/spmf"
   ]
  },
  {
   "cell_type": "code",
   "execution_count": null,
   "metadata": {
    "ExecuteTime": {
     "end_time": "2020-09-07T17:36:24.990434Z",
     "start_time": "2020-09-07T17:36:24.275510Z"
    },
    "scrolled": true
   },
   "outputs": [],
   "source": [
    "\n",
    "import re\n",
    "import urllib.request\n",
    "# Mapping function to transform SPMF data\n",
    "# this function allows to use a local file in SPMF or an URL\n",
    "def SPMFFormatConverter(name):\n",
    "    sequences = []\n",
    "    if re.match(name,\"http:\") == None:\n",
    "        u = urllib.request.urlopen('http://www.philippe-fournier-viger.com/spmf/datasets/BMS1_spmf')\n",
    "        f = u.readlines()\n",
    "    else:    \n",
    "        f = open(name)\n",
    "    for ln in f:\n",
    "        if re.match(name,\"http:\") == None:\n",
    "            seq = ln.decode('utf8').split(\" -1 \")\n",
    "        else:\n",
    "            seq = ln.split(\" -1 \")\n",
    "        # remove end of line : \"-2\\n\" and last line \"-2\"\n",
    "        seq = [x for x in seq if (x != \"-2\\n\" and x != \"-2\")]\n",
    "        sequences.append(seq)\n",
    "    if re.match(name,\"http:\") != None: \n",
    "        f.close()\n",
    "\n",
    "    #Create sequences of items\n",
    "    Data=[]\n",
    "    for seq in sequences:\n",
    "        newSeq = []\n",
    "        for item in seq:\n",
    "            newSeq.append([item])\n",
    "        Data.append(newSeq)\n",
    "    return Data\n"
   ]
  },
  {
   "cell_type": "markdown",
   "metadata": {},
   "source": [
    "**An example:** <BR>\n",
    "    BMSWebView1 (Gazelle) ( KDD CUP 2000). This dataset contains 59,601 sequences of clickstream data from an e-commerce. It contains 497 distinct items. The average length of sequences is 2.42 items with a standard deviation of 3.22. In this dataset, there are some long sequences. For example, 318 sequences contains more than 20 items.\n",
    "The dataset is available here: http://www.philippe-fournier-viger.com/spmf/datasets/BMS1_spmf\n"
   ]
  },
  {
   "cell_type": "code",
   "execution_count": null,
   "metadata": {
    "ExecuteTime": {
     "end_time": "2020-09-07T17:36:31.738221Z",
     "start_time": "2020-09-07T17:36:24.992840Z"
    }
   },
   "outputs": [],
   "source": [
    "#local file\n",
    "LogData=SPMFFormatConverter('BMS1_spmf1.txt')\n",
    "\n",
    "\n",
    "LogData=[]\n",
    "#using url\n",
    "LogData=SPMFFormatConverter('http://www.philippe-fournier-viger.com/spmf/datasets/BMS1_spmf')\n",
    "print (\"\\n The ten first sequences of clickstreams\\n\")\n",
    "print (LogData[1:10])\n",
    "print ('Number of sequences:',len(LogData))\n"
   ]
  },
  {
   "cell_type": "code",
   "execution_count": null,
   "metadata": {
    "ExecuteTime": {
     "end_time": "2020-09-07T17:37:04.250683Z",
     "start_time": "2020-09-07T17:36:31.743286Z"
    }
   },
   "outputs": [],
   "source": [
    "%time result=prefixspan.prefixSpan (LogData, 200)\n",
    "\n",
    "sorted(result)"
   ]
  },
  {
   "cell_type": "markdown",
   "metadata": {},
   "source": [
    "The closed sequential patterns"
   ]
  },
  {
   "cell_type": "code",
   "execution_count": null,
   "metadata": {
    "ExecuteTime": {
     "end_time": "2020-09-07T17:37:05.924849Z",
     "start_time": "2020-09-07T17:37:04.263332Z"
    }
   },
   "outputs": [],
   "source": [
    "prefixspan.filterClosed(result)\n",
    "print(result)"
   ]
  },
  {
   "cell_type": "markdown",
   "metadata": {},
   "source": [
    "Comparing execution times between Aprioriall and PrefixSpan. The minimal support is 3000 in order to avoid to wait too long.\n"
   ]
  },
  {
   "cell_type": "code",
   "execution_count": null,
   "metadata": {
    "ExecuteTime": {
     "end_time": "2020-09-07T17:38:26.870989Z",
     "start_time": "2020-09-07T17:37:05.927575Z"
    }
   },
   "outputs": [],
   "source": [
    "print ('Time for AprioriAll: \\n')\n",
    "%time result = aprioriall.apriori(LogData, 3000, False)\n",
    "\n",
    "print ('\\nTime for PrefixSpan: \\n')\n",
    "%time result = prefixspan.prefixSpan (LogData, 3000)"
   ]
  },
  {
   "cell_type": "markdown",
   "metadata": {},
   "source": [
    "## Using SPMF java code"
   ]
  },
  {
   "cell_type": "markdown",
   "metadata": {},
   "source": [
    "The SPMF java code can be downloaded here:<BR>\n",
    "    * http://www.philippe-fournier-viger.com/spmf/index.php?link=download.php\n",
    "in the following it is assumed that the jar file is saved in the current directory.<BR>\n",
    "Furthermore, it is assumed that the files used for the test have also been downloaded and saved in the directory:<BR>\n",
    "    * Dataset/SPMF/test_files \n",
    "Finally it is assumed that the file KDDCUP2000BMS1_spmf.txt is in the current directory.<BR>\n",
    "According to your configuration, think to update the path for accessing the datasets."
   ]
  },
  {
   "cell_type": "code",
   "execution_count": null,
   "metadata": {
    "ExecuteTime": {
     "end_time": "2020-09-07T17:38:26.896702Z",
     "start_time": "2020-09-07T17:38:26.874711Z"
    }
   },
   "outputs": [],
   "source": [
    "def SPMFResultConverter (name):\n",
    "    f=open(\"output.txt\")\n",
    "    results=[]\n",
    "    for ln in f:\n",
    "        seq = ln.split(\" -1 \")\n",
    "        res='<'\n",
    "        for x in seq:\n",
    "            if x.find(\"SUP\") == -1:\n",
    "                res=res+'['+x+\"]\"\n",
    "            else: \n",
    "                x=x.replace('\\n','')\n",
    "                res=res+'> '+x\n",
    "        results.append(res)\n",
    "    return results"
   ]
  },
  {
   "cell_type": "code",
   "execution_count": null,
   "metadata": {
    "ExecuteTime": {
     "end_time": "2020-09-07T17:38:28.001565Z",
     "start_time": "2020-09-07T17:38:26.901782Z"
    }
   },
   "outputs": [],
   "source": [
    "import os\n",
    "    \n",
    "os.system(\"java -jar spmf.jar run PrefixSpan Dataset/SPMF/test_files/contextPrefixSpan.txt output.txt 50%\")\n",
    "\n",
    "results=SPMFResultConverter(\"output.txt\")\n",
    "sorted(results)\n"
   ]
  },
  {
   "cell_type": "markdown",
   "metadata": {},
   "source": [
    "Comparison with the bigger file KDD Cup"
   ]
  },
  {
   "cell_type": "code",
   "execution_count": null,
   "metadata": {
    "ExecuteTime": {
     "end_time": "2020-09-07T17:38:28.753517Z",
     "start_time": "2020-09-07T17:38:28.008402Z"
    }
   },
   "outputs": [],
   "source": [
    "%time os.system(\"java -jar spmf.jar run PrefixSpan KDDCUP2000BMS1_spmf.txt output.txt 0.5%\")\n",
    "\n",
    "results=SPMFResultConverter(\"output.txt\")\n",
    "sorted(results)\n",
    "\n"
   ]
  },
  {
   "cell_type": "markdown",
   "metadata": {},
   "source": [
    "## Comparison of execution times between Python and Java implementations"
   ]
  },
  {
   "cell_type": "markdown",
   "metadata": {},
   "source": [
    "Comparison of times between the two PrefixSpan implementations (Python and Java)"
   ]
  },
  {
   "cell_type": "code",
   "execution_count": null,
   "metadata": {
    "ExecuteTime": {
     "end_time": "2020-09-07T17:39:05.514426Z",
     "start_time": "2020-09-07T17:38:28.761208Z"
    }
   },
   "outputs": [],
   "source": [
    "print ('Time for PrefixSpan Java: \\n')\n",
    "%time os.system(\"java -jar spmf.jar run PrefixSpan KDDCUP2000BMS1_spmf.txt output.txt 0.34%\")\n",
    "#with 0.34% PrefixSpan reports minsup = 203 sequences.\n",
    "\n",
    "LogData=[]\n",
    "#using url\n",
    "LogData=SPMFFormatConverter('KDDCUP2000BMS1_spmf.txt')\n",
    "print ('\\nTime for PrefixSpan Python: \\n')\n",
    "%time result = prefixspan.prefixSpan (LogData, 203)"
   ]
  }
 ],
 "metadata": {
  "kernelspec": {
   "display_name": "Python 3",
   "language": "python",
   "name": "python3"
  },
  "language_info": {
   "codemirror_mode": {
    "name": "ipython",
    "version": 3
   },
   "file_extension": ".py",
   "mimetype": "text/x-python",
   "name": "python",
   "nbconvert_exporter": "python",
   "pygments_lexer": "ipython3",
   "version": "3.6.4"
  },
  "toc": {
   "base_numbering": 1,
   "nav_menu": {},
   "number_sections": true,
   "sideBar": true,
   "skip_h1_title": false,
   "title_cell": "Table of Contents",
   "title_sidebar": "Contents",
   "toc_cell": false,
   "toc_position": {},
   "toc_section_display": true,
   "toc_window_display": false
  }
 },
 "nbformat": 4,
 "nbformat_minor": 2
}
